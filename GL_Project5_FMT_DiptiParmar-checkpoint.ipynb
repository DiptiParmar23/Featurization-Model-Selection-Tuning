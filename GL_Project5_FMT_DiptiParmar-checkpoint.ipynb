{
 "cells": [
  {
   "cell_type": "markdown",
   "metadata": {},
   "source": [
    "## Project 5 : Featurization, Model Selection & Tuning (FMT)"
   ]
  },
  {
   "cell_type": "markdown",
   "metadata": {},
   "source": [
    "## • DOMAIN: Semiconductor manufacturing process"
   ]
  },
  {
   "cell_type": "markdown",
   "metadata": {},
   "source": [
    "### • PROJECT OBJECTIVE: We will build a classifier to predict the Pass/Fail yield of a particular process entity and analyse whether all the features are required to build the model or not."
   ]
  },
  {
   "cell_type": "code",
   "execution_count": 452,
   "metadata": {},
   "outputs": [],
   "source": [
    "import numpy as np\n",
    "import pandas as pd\n",
    "import matplotlib.pyplot as plt\n",
    "import seaborn as sns\n",
    "%matplotlib inline\n",
    "from sklearn.model_selection import train_test_split\n",
    "from sklearn import metrics\n",
    "from sklearn.metrics import accuracy_score,f1_score,recall_score,precision_score,confusion_matrix\n",
    "import warnings\n",
    "warnings.filterwarnings('ignore')"
   ]
  },
  {
   "cell_type": "code",
   "execution_count": 453,
   "metadata": {},
   "outputs": [
    {
     "data": {
      "text/html": [
       "<div>\n",
       "<style scoped>\n",
       "    .dataframe tbody tr th:only-of-type {\n",
       "        vertical-align: middle;\n",
       "    }\n",
       "\n",
       "    .dataframe tbody tr th {\n",
       "        vertical-align: top;\n",
       "    }\n",
       "\n",
       "    .dataframe thead th {\n",
       "        text-align: right;\n",
       "    }\n",
       "</style>\n",
       "<table border=\"1\" class=\"dataframe\">\n",
       "  <thead>\n",
       "    <tr style=\"text-align: right;\">\n",
       "      <th></th>\n",
       "      <th>Time</th>\n",
       "      <th>0</th>\n",
       "      <th>1</th>\n",
       "      <th>2</th>\n",
       "      <th>3</th>\n",
       "      <th>4</th>\n",
       "      <th>5</th>\n",
       "      <th>6</th>\n",
       "      <th>7</th>\n",
       "      <th>8</th>\n",
       "      <th>...</th>\n",
       "      <th>581</th>\n",
       "      <th>582</th>\n",
       "      <th>583</th>\n",
       "      <th>584</th>\n",
       "      <th>585</th>\n",
       "      <th>586</th>\n",
       "      <th>587</th>\n",
       "      <th>588</th>\n",
       "      <th>589</th>\n",
       "      <th>Pass/Fail</th>\n",
       "    </tr>\n",
       "  </thead>\n",
       "  <tbody>\n",
       "    <tr>\n",
       "      <th>0</th>\n",
       "      <td>2008-07-19 11:55:00</td>\n",
       "      <td>3030.93</td>\n",
       "      <td>2564.00</td>\n",
       "      <td>2187.7333</td>\n",
       "      <td>1411.1265</td>\n",
       "      <td>1.3602</td>\n",
       "      <td>100.0</td>\n",
       "      <td>97.6133</td>\n",
       "      <td>0.1242</td>\n",
       "      <td>1.5005</td>\n",
       "      <td>...</td>\n",
       "      <td>NaN</td>\n",
       "      <td>0.5005</td>\n",
       "      <td>0.0118</td>\n",
       "      <td>0.0035</td>\n",
       "      <td>2.3630</td>\n",
       "      <td>NaN</td>\n",
       "      <td>NaN</td>\n",
       "      <td>NaN</td>\n",
       "      <td>NaN</td>\n",
       "      <td>-1</td>\n",
       "    </tr>\n",
       "    <tr>\n",
       "      <th>1</th>\n",
       "      <td>2008-07-19 12:32:00</td>\n",
       "      <td>3095.78</td>\n",
       "      <td>2465.14</td>\n",
       "      <td>2230.4222</td>\n",
       "      <td>1463.6606</td>\n",
       "      <td>0.8294</td>\n",
       "      <td>100.0</td>\n",
       "      <td>102.3433</td>\n",
       "      <td>0.1247</td>\n",
       "      <td>1.4966</td>\n",
       "      <td>...</td>\n",
       "      <td>208.2045</td>\n",
       "      <td>0.5019</td>\n",
       "      <td>0.0223</td>\n",
       "      <td>0.0055</td>\n",
       "      <td>4.4447</td>\n",
       "      <td>0.0096</td>\n",
       "      <td>0.0201</td>\n",
       "      <td>0.0060</td>\n",
       "      <td>208.2045</td>\n",
       "      <td>-1</td>\n",
       "    </tr>\n",
       "    <tr>\n",
       "      <th>2</th>\n",
       "      <td>2008-07-19 13:17:00</td>\n",
       "      <td>2932.61</td>\n",
       "      <td>2559.94</td>\n",
       "      <td>2186.4111</td>\n",
       "      <td>1698.0172</td>\n",
       "      <td>1.5102</td>\n",
       "      <td>100.0</td>\n",
       "      <td>95.4878</td>\n",
       "      <td>0.1241</td>\n",
       "      <td>1.4436</td>\n",
       "      <td>...</td>\n",
       "      <td>82.8602</td>\n",
       "      <td>0.4958</td>\n",
       "      <td>0.0157</td>\n",
       "      <td>0.0039</td>\n",
       "      <td>3.1745</td>\n",
       "      <td>0.0584</td>\n",
       "      <td>0.0484</td>\n",
       "      <td>0.0148</td>\n",
       "      <td>82.8602</td>\n",
       "      <td>1</td>\n",
       "    </tr>\n",
       "    <tr>\n",
       "      <th>3</th>\n",
       "      <td>2008-07-19 14:43:00</td>\n",
       "      <td>2988.72</td>\n",
       "      <td>2479.90</td>\n",
       "      <td>2199.0333</td>\n",
       "      <td>909.7926</td>\n",
       "      <td>1.3204</td>\n",
       "      <td>100.0</td>\n",
       "      <td>104.2367</td>\n",
       "      <td>0.1217</td>\n",
       "      <td>1.4882</td>\n",
       "      <td>...</td>\n",
       "      <td>73.8432</td>\n",
       "      <td>0.4990</td>\n",
       "      <td>0.0103</td>\n",
       "      <td>0.0025</td>\n",
       "      <td>2.0544</td>\n",
       "      <td>0.0202</td>\n",
       "      <td>0.0149</td>\n",
       "      <td>0.0044</td>\n",
       "      <td>73.8432</td>\n",
       "      <td>-1</td>\n",
       "    </tr>\n",
       "    <tr>\n",
       "      <th>4</th>\n",
       "      <td>2008-07-19 15:22:00</td>\n",
       "      <td>3032.24</td>\n",
       "      <td>2502.87</td>\n",
       "      <td>2233.3667</td>\n",
       "      <td>1326.5200</td>\n",
       "      <td>1.5334</td>\n",
       "      <td>100.0</td>\n",
       "      <td>100.3967</td>\n",
       "      <td>0.1235</td>\n",
       "      <td>1.5031</td>\n",
       "      <td>...</td>\n",
       "      <td>NaN</td>\n",
       "      <td>0.4800</td>\n",
       "      <td>0.4766</td>\n",
       "      <td>0.1045</td>\n",
       "      <td>99.3032</td>\n",
       "      <td>0.0202</td>\n",
       "      <td>0.0149</td>\n",
       "      <td>0.0044</td>\n",
       "      <td>73.8432</td>\n",
       "      <td>-1</td>\n",
       "    </tr>\n",
       "  </tbody>\n",
       "</table>\n",
       "<p>5 rows × 592 columns</p>\n",
       "</div>"
      ],
      "text/plain": [
       "                  Time        0        1          2          3       4      5  \\\n",
       "0  2008-07-19 11:55:00  3030.93  2564.00  2187.7333  1411.1265  1.3602  100.0   \n",
       "1  2008-07-19 12:32:00  3095.78  2465.14  2230.4222  1463.6606  0.8294  100.0   \n",
       "2  2008-07-19 13:17:00  2932.61  2559.94  2186.4111  1698.0172  1.5102  100.0   \n",
       "3  2008-07-19 14:43:00  2988.72  2479.90  2199.0333   909.7926  1.3204  100.0   \n",
       "4  2008-07-19 15:22:00  3032.24  2502.87  2233.3667  1326.5200  1.5334  100.0   \n",
       "\n",
       "          6       7       8  ...       581     582     583     584      585  \\\n",
       "0   97.6133  0.1242  1.5005  ...       NaN  0.5005  0.0118  0.0035   2.3630   \n",
       "1  102.3433  0.1247  1.4966  ...  208.2045  0.5019  0.0223  0.0055   4.4447   \n",
       "2   95.4878  0.1241  1.4436  ...   82.8602  0.4958  0.0157  0.0039   3.1745   \n",
       "3  104.2367  0.1217  1.4882  ...   73.8432  0.4990  0.0103  0.0025   2.0544   \n",
       "4  100.3967  0.1235  1.5031  ...       NaN  0.4800  0.4766  0.1045  99.3032   \n",
       "\n",
       "      586     587     588       589  Pass/Fail  \n",
       "0     NaN     NaN     NaN       NaN         -1  \n",
       "1  0.0096  0.0201  0.0060  208.2045         -1  \n",
       "2  0.0584  0.0484  0.0148   82.8602          1  \n",
       "3  0.0202  0.0149  0.0044   73.8432         -1  \n",
       "4  0.0202  0.0149  0.0044   73.8432         -1  \n",
       "\n",
       "[5 rows x 592 columns]"
      ]
     },
     "execution_count": 453,
     "metadata": {},
     "output_type": "execute_result"
    }
   ],
   "source": [
    "semi_df=pd.read_csv(\"signal-data.csv\")\n",
    "semi_df.head(5)\n",
    "#auto_df1=pd.read_json(\"Part1 - Car-Attributes.json\")\n",
    "#auto_df1.head(5)"
   ]
  },
  {
   "cell_type": "code",
   "execution_count": 454,
   "metadata": {},
   "outputs": [
    {
     "name": "stdout",
     "output_type": "stream",
     "text": [
      "(1567, 592)\n",
      "927664\n"
     ]
    }
   ],
   "source": [
    "print(semi_df.shape)\n",
    "print(semi_df.size)"
   ]
  },
  {
   "cell_type": "markdown",
   "metadata": {},
   "source": [
    "### 2. Data cleansing:"
   ]
  },
  {
   "cell_type": "markdown",
   "metadata": {},
   "source": [
    "#### • Missing value treatment."
   ]
  },
  {
   "cell_type": "code",
   "execution_count": 455,
   "metadata": {},
   "outputs": [
    {
     "name": "stdout",
     "output_type": "stream",
     "text": [
      "<class 'pandas.core.frame.DataFrame'>\n",
      "RangeIndex: 1567 entries, 0 to 1566\n",
      "Columns: 592 entries, Time to Pass/Fail\n",
      "dtypes: float64(590), int64(1), object(1)\n",
      "memory usage: 7.1+ MB\n"
     ]
    }
   ],
   "source": [
    "semi_df.info()"
   ]
  },
  {
   "cell_type": "code",
   "execution_count": 456,
   "metadata": {},
   "outputs": [
    {
     "data": {
      "text/plain": [
       "Time          object\n",
       "0            float64\n",
       "1            float64\n",
       "2            float64\n",
       "3            float64\n",
       "              ...   \n",
       "586          float64\n",
       "587          float64\n",
       "588          float64\n",
       "589          float64\n",
       "Pass/Fail      int64\n",
       "Length: 592, dtype: object"
      ]
     },
     "execution_count": 456,
     "metadata": {},
     "output_type": "execute_result"
    }
   ],
   "source": [
    "semi_df.dtypes"
   ]
  },
  {
   "cell_type": "code",
   "execution_count": 457,
   "metadata": {},
   "outputs": [
    {
     "name": "stdout",
     "output_type": "stream",
     "text": [
      "Number of duplicate rows=0\n"
     ]
    }
   ],
   "source": [
    "# Check for duplicate data\n",
    "dups=semi_df.duplicated()\n",
    "print('Number of duplicate rows=%d'%(dups.sum()))"
   ]
  },
  {
   "cell_type": "code",
   "execution_count": 458,
   "metadata": {},
   "outputs": [
    {
     "data": {
      "text/plain": [
       "True"
      ]
     },
     "execution_count": 458,
     "metadata": {},
     "output_type": "execute_result"
    }
   ],
   "source": [
    "semi_df.isna().values.any()"
   ]
  },
  {
   "cell_type": "code",
   "execution_count": 459,
   "metadata": {},
   "outputs": [
    {
     "data": {
      "text/plain": [
       "Time          0\n",
       "0             6\n",
       "1             7\n",
       "2            14\n",
       "3            14\n",
       "             ..\n",
       "586           1\n",
       "587           1\n",
       "588           1\n",
       "589           1\n",
       "Pass/Fail     0\n",
       "Length: 592, dtype: int64"
      ]
     },
     "execution_count": 459,
     "metadata": {},
     "output_type": "execute_result"
    }
   ],
   "source": [
    "semi_df.isna().sum()"
   ]
  },
  {
   "cell_type": "code",
   "execution_count": 460,
   "metadata": {},
   "outputs": [
    {
     "data": {
      "text/plain": [
       "Time          0\n",
       "0             6\n",
       "1             7\n",
       "2            14\n",
       "3            14\n",
       "             ..\n",
       "586           1\n",
       "587           1\n",
       "588           1\n",
       "589           1\n",
       "Pass/Fail     0\n",
       "Length: 592, dtype: int64"
      ]
     },
     "execution_count": 460,
     "metadata": {},
     "output_type": "execute_result"
    }
   ],
   "source": [
    "semi_df.isnull().sum()"
   ]
  },
  {
   "cell_type": "markdown",
   "metadata": {},
   "source": [
    "#### It shows the plenty of null values in the dataset."
   ]
  },
  {
   "cell_type": "code",
   "execution_count": 461,
   "metadata": {},
   "outputs": [],
   "source": [
    "semi_df.fillna(value=semi_df.median(),inplace=True)"
   ]
  },
  {
   "cell_type": "code",
   "execution_count": 462,
   "metadata": {},
   "outputs": [
    {
     "data": {
      "text/plain": [
       "Time         0\n",
       "0            0\n",
       "1            0\n",
       "2            0\n",
       "3            0\n",
       "            ..\n",
       "586          0\n",
       "587          0\n",
       "588          0\n",
       "589          0\n",
       "Pass/Fail    0\n",
       "Length: 592, dtype: int64"
      ]
     },
     "execution_count": 462,
     "metadata": {},
     "output_type": "execute_result"
    }
   ],
   "source": [
    "semi_df.isnull().sum()"
   ]
  },
  {
   "cell_type": "markdown",
   "metadata": {},
   "source": [
    "#### Now, there is no null values in the dataset. We must remove the columns which contain only a single unique value as they are not useful to the classifier."
   ]
  },
  {
   "cell_type": "markdown",
   "metadata": {},
   "source": [
    "#### • Drop attribute/s if required using relevant functional knowledge."
   ]
  },
  {
   "cell_type": "code",
   "execution_count": 463,
   "metadata": {},
   "outputs": [],
   "source": [
    "X=semi_df.drop(columns=['Pass/Fail','Time'],axis=1)"
   ]
  },
  {
   "cell_type": "code",
   "execution_count": 464,
   "metadata": {},
   "outputs": [
    {
     "data": {
      "text/html": [
       "<div>\n",
       "<style scoped>\n",
       "    .dataframe tbody tr th:only-of-type {\n",
       "        vertical-align: middle;\n",
       "    }\n",
       "\n",
       "    .dataframe tbody tr th {\n",
       "        vertical-align: top;\n",
       "    }\n",
       "\n",
       "    .dataframe thead th {\n",
       "        text-align: right;\n",
       "    }\n",
       "</style>\n",
       "<table border=\"1\" class=\"dataframe\">\n",
       "  <thead>\n",
       "    <tr style=\"text-align: right;\">\n",
       "      <th></th>\n",
       "      <th>0</th>\n",
       "      <th>1</th>\n",
       "      <th>2</th>\n",
       "      <th>3</th>\n",
       "      <th>4</th>\n",
       "    </tr>\n",
       "  </thead>\n",
       "  <tbody>\n",
       "    <tr>\n",
       "      <th>0</th>\n",
       "      <td>3030.9300</td>\n",
       "      <td>3095.7800</td>\n",
       "      <td>2932.6100</td>\n",
       "      <td>2988.7200</td>\n",
       "      <td>3032.2400</td>\n",
       "    </tr>\n",
       "    <tr>\n",
       "      <th>1</th>\n",
       "      <td>2564.0000</td>\n",
       "      <td>2465.1400</td>\n",
       "      <td>2559.9400</td>\n",
       "      <td>2479.9000</td>\n",
       "      <td>2502.8700</td>\n",
       "    </tr>\n",
       "    <tr>\n",
       "      <th>2</th>\n",
       "      <td>2187.7333</td>\n",
       "      <td>2230.4222</td>\n",
       "      <td>2186.4111</td>\n",
       "      <td>2199.0333</td>\n",
       "      <td>2233.3667</td>\n",
       "    </tr>\n",
       "    <tr>\n",
       "      <th>3</th>\n",
       "      <td>1411.1265</td>\n",
       "      <td>1463.6606</td>\n",
       "      <td>1698.0172</td>\n",
       "      <td>909.7926</td>\n",
       "      <td>1326.5200</td>\n",
       "    </tr>\n",
       "    <tr>\n",
       "      <th>4</th>\n",
       "      <td>1.3602</td>\n",
       "      <td>0.8294</td>\n",
       "      <td>1.5102</td>\n",
       "      <td>1.3204</td>\n",
       "      <td>1.5334</td>\n",
       "    </tr>\n",
       "    <tr>\n",
       "      <th>...</th>\n",
       "      <td>...</td>\n",
       "      <td>...</td>\n",
       "      <td>...</td>\n",
       "      <td>...</td>\n",
       "      <td>...</td>\n",
       "    </tr>\n",
       "    <tr>\n",
       "      <th>585</th>\n",
       "      <td>2.3630</td>\n",
       "      <td>4.4447</td>\n",
       "      <td>3.1745</td>\n",
       "      <td>2.0544</td>\n",
       "      <td>99.3032</td>\n",
       "    </tr>\n",
       "    <tr>\n",
       "      <th>586</th>\n",
       "      <td>0.0205</td>\n",
       "      <td>0.0096</td>\n",
       "      <td>0.0584</td>\n",
       "      <td>0.0202</td>\n",
       "      <td>0.0202</td>\n",
       "    </tr>\n",
       "    <tr>\n",
       "      <th>587</th>\n",
       "      <td>0.0148</td>\n",
       "      <td>0.0201</td>\n",
       "      <td>0.0484</td>\n",
       "      <td>0.0149</td>\n",
       "      <td>0.0149</td>\n",
       "    </tr>\n",
       "    <tr>\n",
       "      <th>588</th>\n",
       "      <td>0.0046</td>\n",
       "      <td>0.0060</td>\n",
       "      <td>0.0148</td>\n",
       "      <td>0.0044</td>\n",
       "      <td>0.0044</td>\n",
       "    </tr>\n",
       "    <tr>\n",
       "      <th>589</th>\n",
       "      <td>71.9005</td>\n",
       "      <td>208.2045</td>\n",
       "      <td>82.8602</td>\n",
       "      <td>73.8432</td>\n",
       "      <td>73.8432</td>\n",
       "    </tr>\n",
       "  </tbody>\n",
       "</table>\n",
       "<p>590 rows × 5 columns</p>\n",
       "</div>"
      ],
      "text/plain": [
       "             0          1          2          3          4\n",
       "0    3030.9300  3095.7800  2932.6100  2988.7200  3032.2400\n",
       "1    2564.0000  2465.1400  2559.9400  2479.9000  2502.8700\n",
       "2    2187.7333  2230.4222  2186.4111  2199.0333  2233.3667\n",
       "3    1411.1265  1463.6606  1698.0172   909.7926  1326.5200\n",
       "4       1.3602     0.8294     1.5102     1.3204     1.5334\n",
       "..         ...        ...        ...        ...        ...\n",
       "585     2.3630     4.4447     3.1745     2.0544    99.3032\n",
       "586     0.0205     0.0096     0.0584     0.0202     0.0202\n",
       "587     0.0148     0.0201     0.0484     0.0149     0.0149\n",
       "588     0.0046     0.0060     0.0148     0.0044     0.0044\n",
       "589    71.9005   208.2045    82.8602    73.8432    73.8432\n",
       "\n",
       "[590 rows x 5 columns]"
      ]
     },
     "execution_count": 464,
     "metadata": {},
     "output_type": "execute_result"
    }
   ],
   "source": [
    "X.head().T"
   ]
  },
  {
   "cell_type": "code",
   "execution_count": 465,
   "metadata": {},
   "outputs": [
    {
     "data": {
      "text/plain": [
       "<AxesSubplot:>"
      ]
     },
     "execution_count": 465,
     "metadata": {},
     "output_type": "execute_result"
    },
    {
     "data": {
      "image/png": "[encoded data removed]",
      "text/plain": [
       "<Figure size 432x288 with 2 Axes>"
      ]
     },
     "metadata": {
      "needs_background": "light"
     },
     "output_type": "display_data"
    }
   ],
   "source": [
    "sns.heatmap(X.corr())"
   ]
  },
  {
   "cell_type": "markdown",
   "metadata": {},
   "source": [
    "#### • Make all relevant modifications on the data using both functional/logical reasoning/assumptions."
   ]
  },
  {
   "cell_type": "code",
   "execution_count": 466,
   "metadata": {},
   "outputs": [],
   "source": [
    "y=semi_df['Pass/Fail']"
   ]
  },
  {
   "cell_type": "code",
   "execution_count": 467,
   "metadata": {},
   "outputs": [
    {
     "data": {
      "text/plain": [
       "-1    1463\n",
       " 1     104\n",
       "Name: Pass/Fail, dtype: int64"
      ]
     },
     "execution_count": 467,
     "metadata": {},
     "output_type": "execute_result"
    }
   ],
   "source": [
    "#The data given in dataset is highly imbalanced.¶\n",
    "y.value_counts()"
   ]
  },
  {
   "cell_type": "code",
   "execution_count": 468,
   "metadata": {},
   "outputs": [
    {
     "data": {
      "text/plain": [
       "(1567, 590)"
      ]
     },
     "execution_count": 468,
     "metadata": {},
     "output_type": "execute_result"
    }
   ],
   "source": [
    "X.shape"
   ]
  },
  {
   "cell_type": "code",
   "execution_count": 469,
   "metadata": {},
   "outputs": [],
   "source": [
    "uni_list=[]\n",
    "for column in X.columns:\n",
    "    if(X[column].nunique()==1):\n",
    "        uni_list.append(column)"
   ]
  },
  {
   "cell_type": "code",
   "execution_count": 470,
   "metadata": {},
   "outputs": [],
   "source": [
    "X.drop(columns=uni_list,axis=1,inplace=True)"
   ]
  },
  {
   "cell_type": "code",
   "execution_count": 471,
   "metadata": {},
   "outputs": [
    {
     "data": {
      "text/plain": [
       "(1567, 474)"
      ]
     },
     "execution_count": 471,
     "metadata": {},
     "output_type": "execute_result"
    }
   ],
   "source": [
    "#We have removed 116 columns\n",
    "X.shape"
   ]
  },
  {
   "cell_type": "code",
   "execution_count": 472,
   "metadata": {},
   "outputs": [],
   "source": [
    "X_column=X.columns"
   ]
  },
  {
   "cell_type": "markdown",
   "metadata": {},
   "source": [
    "#### We will be using the object SelectNonCollinear from the library collinearity. We set the threshold to 0.4 meaning columns with collinearity greater than 0.4 will be removed."
   ]
  },
  {
   "cell_type": "code",
   "execution_count": 473,
   "metadata": {},
   "outputs": [
    {
     "name": "stdout",
     "output_type": "stream",
     "text": [
      "Requirement already satisfied: collinearity in c:\\users\\san\\anaconda3\\lib\\site-packages (0.6.1)\n",
      "Requirement already satisfied: scikit-learn in c:\\users\\san\\anaconda3\\lib\\site-packages (from collinearity) (0.23.2)\n",
      "Requirement already satisfied: numpy in c:\\users\\san\\anaconda3\\lib\\site-packages (from collinearity) (1.19.2)\n",
      "Requirement already satisfied: scipy>=0.19.1 in c:\\users\\san\\anaconda3\\lib\\site-packages (from scikit-learn->collinearity) (1.5.2)\n",
      "Requirement already satisfied: joblib>=0.11 in c:\\users\\san\\anaconda3\\lib\\site-packages (from scikit-learn->collinearity) (0.17.0)\n",
      "Requirement already satisfied: threadpoolctl>=2.0.0 in c:\\users\\san\\anaconda3\\lib\\site-packages (from scikit-learn->collinearity) (2.1.0)\n"
     ]
    }
   ],
   "source": [
    "!pip install collinearity"
   ]
  },
  {
   "cell_type": "code",
   "execution_count": 474,
   "metadata": {},
   "outputs": [],
   "source": [
    "from collinearity import SelectNonCollinear\n",
    "from sklearn.feature_selection import f_classif\n",
    "selector=SelectNonCollinear(correlation_threshold=0.4,scoring=f_classif)"
   ]
  },
  {
   "cell_type": "code",
   "execution_count": 475,
   "metadata": {},
   "outputs": [],
   "source": [
    "X=X.values\n",
    "y=y.values"
   ]
  },
  {
   "cell_type": "code",
   "execution_count": 476,
   "metadata": {},
   "outputs": [],
   "source": [
    "selector.fit(X,y)"
   ]
  },
  {
   "cell_type": "code",
   "execution_count": 477,
   "metadata": {},
   "outputs": [],
   "source": [
    "#get_support returns a list of boolean values.\n",
    "mask=selector.get_support()"
   ]
  },
  {
   "cell_type": "code",
   "execution_count": 478,
   "metadata": {},
   "outputs": [
    {
     "data": {
      "text/plain": [
       "[True, True, True, True, False]"
      ]
     },
     "execution_count": 478,
     "metadata": {},
     "output_type": "execute_result"
    }
   ],
   "source": [
    "mask[:5]"
   ]
  },
  {
   "cell_type": "code",
   "execution_count": 479,
   "metadata": {},
   "outputs": [
    {
     "data": {
      "text/plain": [
       "159"
      ]
     },
     "execution_count": 479,
     "metadata": {},
     "output_type": "execute_result"
    }
   ],
   "source": [
    "sum(mask)"
   ]
  },
  {
   "cell_type": "code",
   "execution_count": 480,
   "metadata": {},
   "outputs": [],
   "source": [
    "X_preprprocessed=pd.DataFrame(X[:,mask],columns=np.array(X_column)[mask])"
   ]
  },
  {
   "cell_type": "code",
   "execution_count": 481,
   "metadata": {},
   "outputs": [
    {
     "data": {
      "text/plain": [
       "<AxesSubplot:>"
      ]
     },
     "execution_count": 481,
     "metadata": {},
     "output_type": "execute_result"
    },
    {
     "data": {
      "image/png": "[encoded data removed]",
      "text/plain": [
       "<Figure size 432x288 with 2 Axes>"
      ]
     },
     "metadata": {
      "needs_background": "light"
     },
     "output_type": "display_data"
    }
   ],
   "source": [
    "sns.heatmap(X_preprprocessed.corr())"
   ]
  },
  {
   "cell_type": "markdown",
   "metadata": {},
   "source": [
    "#### X_preprprocessed is the dataset without any multicollinearity. The following heatmap should reflect that."
   ]
  },
  {
   "cell_type": "code",
   "execution_count": 482,
   "metadata": {},
   "outputs": [
    {
     "data": {
      "text/plain": [
       "(1567, 159)"
      ]
     },
     "execution_count": 482,
     "metadata": {},
     "output_type": "execute_result"
    }
   ],
   "source": [
    "#From 590 columns inX, we have reduced it to 159.\n",
    "X_preprprocessed.shape"
   ]
  },
  {
   "cell_type": "markdown",
   "metadata": {},
   "source": [
    "### 3. Data analysis & visualisation:"
   ]
  },
  {
   "cell_type": "markdown",
   "metadata": {},
   "source": [
    "#### • Perform detailed relevant statistical analysis on the data."
   ]
  },
  {
   "cell_type": "code",
   "execution_count": 483,
   "metadata": {},
   "outputs": [
    {
     "data": {
      "text/html": [
       "<div>\n",
       "<style scoped>\n",
       "    .dataframe tbody tr th:only-of-type {\n",
       "        vertical-align: middle;\n",
       "    }\n",
       "\n",
       "    .dataframe tbody tr th {\n",
       "        vertical-align: top;\n",
       "    }\n",
       "\n",
       "    .dataframe thead th {\n",
       "        text-align: right;\n",
       "    }\n",
       "</style>\n",
       "<table border=\"1\" class=\"dataframe\">\n",
       "  <thead>\n",
       "    <tr style=\"text-align: right;\">\n",
       "      <th></th>\n",
       "      <th>0</th>\n",
       "      <th>1</th>\n",
       "      <th>2</th>\n",
       "      <th>3</th>\n",
       "      <th>4</th>\n",
       "      <th>5</th>\n",
       "      <th>6</th>\n",
       "      <th>7</th>\n",
       "      <th>8</th>\n",
       "      <th>9</th>\n",
       "      <th>...</th>\n",
       "      <th>581</th>\n",
       "      <th>582</th>\n",
       "      <th>583</th>\n",
       "      <th>584</th>\n",
       "      <th>585</th>\n",
       "      <th>586</th>\n",
       "      <th>587</th>\n",
       "      <th>588</th>\n",
       "      <th>589</th>\n",
       "      <th>Pass/Fail</th>\n",
       "    </tr>\n",
       "  </thead>\n",
       "  <tbody>\n",
       "    <tr>\n",
       "      <th>count</th>\n",
       "      <td>1567.000000</td>\n",
       "      <td>1567.000000</td>\n",
       "      <td>1567.000000</td>\n",
       "      <td>1567.000000</td>\n",
       "      <td>1567.000000</td>\n",
       "      <td>1567.0</td>\n",
       "      <td>1567.000000</td>\n",
       "      <td>1567.000000</td>\n",
       "      <td>1567.000000</td>\n",
       "      <td>1567.000000</td>\n",
       "      <td>...</td>\n",
       "      <td>1567.000000</td>\n",
       "      <td>1567.000000</td>\n",
       "      <td>1567.000000</td>\n",
       "      <td>1567.000000</td>\n",
       "      <td>1567.000000</td>\n",
       "      <td>1567.000000</td>\n",
       "      <td>1567.000000</td>\n",
       "      <td>1567.000000</td>\n",
       "      <td>1567.000000</td>\n",
       "      <td>1567.000000</td>\n",
       "    </tr>\n",
       "    <tr>\n",
       "      <th>mean</th>\n",
       "      <td>3014.441551</td>\n",
       "      <td>2495.866110</td>\n",
       "      <td>2200.551958</td>\n",
       "      <td>1395.383474</td>\n",
       "      <td>4.171281</td>\n",
       "      <td>100.0</td>\n",
       "      <td>101.116476</td>\n",
       "      <td>0.121825</td>\n",
       "      <td>1.462860</td>\n",
       "      <td>-0.000842</td>\n",
       "      <td>...</td>\n",
       "      <td>82.403069</td>\n",
       "      <td>0.500096</td>\n",
       "      <td>0.015317</td>\n",
       "      <td>0.003846</td>\n",
       "      <td>3.067628</td>\n",
       "      <td>0.021458</td>\n",
       "      <td>0.016474</td>\n",
       "      <td>0.005283</td>\n",
       "      <td>99.652345</td>\n",
       "      <td>-0.867262</td>\n",
       "    </tr>\n",
       "    <tr>\n",
       "      <th>std</th>\n",
       "      <td>73.480841</td>\n",
       "      <td>80.228143</td>\n",
       "      <td>29.380973</td>\n",
       "      <td>439.837330</td>\n",
       "      <td>56.103721</td>\n",
       "      <td>0.0</td>\n",
       "      <td>6.209385</td>\n",
       "      <td>0.008936</td>\n",
       "      <td>0.073849</td>\n",
       "      <td>0.015107</td>\n",
       "      <td>...</td>\n",
       "      <td>56.348694</td>\n",
       "      <td>0.003403</td>\n",
       "      <td>0.017174</td>\n",
       "      <td>0.003719</td>\n",
       "      <td>3.576899</td>\n",
       "      <td>0.012354</td>\n",
       "      <td>0.008805</td>\n",
       "      <td>0.002866</td>\n",
       "      <td>93.864558</td>\n",
       "      <td>0.498010</td>\n",
       "    </tr>\n",
       "    <tr>\n",
       "      <th>min</th>\n",
       "      <td>2743.240000</td>\n",
       "      <td>2158.750000</td>\n",
       "      <td>2060.660000</td>\n",
       "      <td>0.000000</td>\n",
       "      <td>0.681500</td>\n",
       "      <td>100.0</td>\n",
       "      <td>82.131100</td>\n",
       "      <td>0.000000</td>\n",
       "      <td>1.191000</td>\n",
       "      <td>-0.053400</td>\n",
       "      <td>...</td>\n",
       "      <td>0.000000</td>\n",
       "      <td>0.477800</td>\n",
       "      <td>0.006000</td>\n",
       "      <td>0.001700</td>\n",
       "      <td>1.197500</td>\n",
       "      <td>-0.016900</td>\n",
       "      <td>0.003200</td>\n",
       "      <td>0.001000</td>\n",
       "      <td>0.000000</td>\n",
       "      <td>-1.000000</td>\n",
       "    </tr>\n",
       "    <tr>\n",
       "      <th>25%</th>\n",
       "      <td>2966.665000</td>\n",
       "      <td>2452.885000</td>\n",
       "      <td>2181.099950</td>\n",
       "      <td>1083.885800</td>\n",
       "      <td>1.017700</td>\n",
       "      <td>100.0</td>\n",
       "      <td>97.937800</td>\n",
       "      <td>0.121100</td>\n",
       "      <td>1.411250</td>\n",
       "      <td>-0.010800</td>\n",
       "      <td>...</td>\n",
       "      <td>72.288900</td>\n",
       "      <td>0.497900</td>\n",
       "      <td>0.011600</td>\n",
       "      <td>0.003100</td>\n",
       "      <td>2.306500</td>\n",
       "      <td>0.013450</td>\n",
       "      <td>0.010600</td>\n",
       "      <td>0.003300</td>\n",
       "      <td>44.368600</td>\n",
       "      <td>-1.000000</td>\n",
       "    </tr>\n",
       "    <tr>\n",
       "      <th>50%</th>\n",
       "      <td>3011.490000</td>\n",
       "      <td>2499.405000</td>\n",
       "      <td>2201.066700</td>\n",
       "      <td>1285.214400</td>\n",
       "      <td>1.316800</td>\n",
       "      <td>100.0</td>\n",
       "      <td>101.512200</td>\n",
       "      <td>0.122400</td>\n",
       "      <td>1.461600</td>\n",
       "      <td>-0.001300</td>\n",
       "      <td>...</td>\n",
       "      <td>72.288900</td>\n",
       "      <td>0.500200</td>\n",
       "      <td>0.013800</td>\n",
       "      <td>0.003600</td>\n",
       "      <td>2.757650</td>\n",
       "      <td>0.020500</td>\n",
       "      <td>0.014800</td>\n",
       "      <td>0.004600</td>\n",
       "      <td>71.900500</td>\n",
       "      <td>-1.000000</td>\n",
       "    </tr>\n",
       "    <tr>\n",
       "      <th>75%</th>\n",
       "      <td>3056.540000</td>\n",
       "      <td>2538.745000</td>\n",
       "      <td>2218.055500</td>\n",
       "      <td>1590.169900</td>\n",
       "      <td>1.518800</td>\n",
       "      <td>100.0</td>\n",
       "      <td>104.530000</td>\n",
       "      <td>0.123800</td>\n",
       "      <td>1.516850</td>\n",
       "      <td>0.008400</td>\n",
       "      <td>...</td>\n",
       "      <td>72.288900</td>\n",
       "      <td>0.502350</td>\n",
       "      <td>0.016500</td>\n",
       "      <td>0.004100</td>\n",
       "      <td>3.294950</td>\n",
       "      <td>0.027600</td>\n",
       "      <td>0.020300</td>\n",
       "      <td>0.006400</td>\n",
       "      <td>114.749700</td>\n",
       "      <td>-1.000000</td>\n",
       "    </tr>\n",
       "    <tr>\n",
       "      <th>max</th>\n",
       "      <td>3356.350000</td>\n",
       "      <td>2846.440000</td>\n",
       "      <td>2315.266700</td>\n",
       "      <td>3715.041700</td>\n",
       "      <td>1114.536600</td>\n",
       "      <td>100.0</td>\n",
       "      <td>129.252200</td>\n",
       "      <td>0.128600</td>\n",
       "      <td>1.656400</td>\n",
       "      <td>0.074900</td>\n",
       "      <td>...</td>\n",
       "      <td>737.304800</td>\n",
       "      <td>0.509800</td>\n",
       "      <td>0.476600</td>\n",
       "      <td>0.104500</td>\n",
       "      <td>99.303200</td>\n",
       "      <td>0.102800</td>\n",
       "      <td>0.079900</td>\n",
       "      <td>0.028600</td>\n",
       "      <td>737.304800</td>\n",
       "      <td>1.000000</td>\n",
       "    </tr>\n",
       "  </tbody>\n",
       "</table>\n",
       "<p>8 rows × 591 columns</p>\n",
       "</div>"
      ],
      "text/plain": [
       "                 0            1            2            3            4  \\\n",
       "count  1567.000000  1567.000000  1567.000000  1567.000000  1567.000000   \n",
       "mean   3014.441551  2495.866110  2200.551958  1395.383474     4.171281   \n",
       "std      73.480841    80.228143    29.380973   439.837330    56.103721   \n",
       "min    2743.240000  2158.750000  2060.660000     0.000000     0.681500   \n",
       "25%    2966.665000  2452.885000  2181.099950  1083.885800     1.017700   \n",
       "50%    3011.490000  2499.405000  2201.066700  1285.214400     1.316800   \n",
       "75%    3056.540000  2538.745000  2218.055500  1590.169900     1.518800   \n",
       "max    3356.350000  2846.440000  2315.266700  3715.041700  1114.536600   \n",
       "\n",
       "            5            6            7            8            9  ...  \\\n",
       "count  1567.0  1567.000000  1567.000000  1567.000000  1567.000000  ...   \n",
       "mean    100.0   101.116476     0.121825     1.462860    -0.000842  ...   \n",
       "std       0.0     6.209385     0.008936     0.073849     0.015107  ...   \n",
       "min     100.0    82.131100     0.000000     1.191000    -0.053400  ...   \n",
       "25%     100.0    97.937800     0.121100     1.411250    -0.010800  ...   \n",
       "50%     100.0   101.512200     0.122400     1.461600    -0.001300  ...   \n",
       "75%     100.0   104.530000     0.123800     1.516850     0.008400  ...   \n",
       "max     100.0   129.252200     0.128600     1.656400     0.074900  ...   \n",
       "\n",
       "               581          582          583          584          585  \\\n",
       "count  1567.000000  1567.000000  1567.000000  1567.000000  1567.000000   \n",
       "mean     82.403069     0.500096     0.015317     0.003846     3.067628   \n",
       "std      56.348694     0.003403     0.017174     0.003719     3.576899   \n",
       "min       0.000000     0.477800     0.006000     0.001700     1.197500   \n",
       "25%      72.288900     0.497900     0.011600     0.003100     2.306500   \n",
       "50%      72.288900     0.500200     0.013800     0.003600     2.757650   \n",
       "75%      72.288900     0.502350     0.016500     0.004100     3.294950   \n",
       "max     737.304800     0.509800     0.476600     0.104500    99.303200   \n",
       "\n",
       "               586          587          588          589    Pass/Fail  \n",
       "count  1567.000000  1567.000000  1567.000000  1567.000000  1567.000000  \n",
       "mean      0.021458     0.016474     0.005283    99.652345    -0.867262  \n",
       "std       0.012354     0.008805     0.002866    93.864558     0.498010  \n",
       "min      -0.016900     0.003200     0.001000     0.000000    -1.000000  \n",
       "25%       0.013450     0.010600     0.003300    44.368600    -1.000000  \n",
       "50%       0.020500     0.014800     0.004600    71.900500    -1.000000  \n",
       "75%       0.027600     0.020300     0.006400   114.749700    -1.000000  \n",
       "max       0.102800     0.079900     0.028600   737.304800     1.000000  \n",
       "\n",
       "[8 rows x 591 columns]"
      ]
     },
     "execution_count": 483,
     "metadata": {},
     "output_type": "execute_result"
    }
   ],
   "source": [
    "semi_df.describe()"
   ]
  },
  {
   "cell_type": "markdown",
   "metadata": {},
   "source": [
    "#### • Perform a detailed univariate, bivariate and multivariate analysis with appropriate detailed comments after each analysis."
   ]
  },
  {
   "cell_type": "code",
   "execution_count": 484,
   "metadata": {},
   "outputs": [
    {
     "data": {
      "text/plain": [
       "<AxesSubplot:ylabel='Count'>"
      ]
     },
     "execution_count": 484,
     "metadata": {},
     "output_type": "execute_result"
    },
    {
     "data": {
      "image/png": "[encoded data removed]",
      "text/plain": [
       "<Figure size 432x288 with 1 Axes>"
      ]
     },
     "metadata": {
      "needs_background": "light"
     },
     "output_type": "display_data"
    }
   ],
   "source": [
    "#the data given in dataset is highly imbalanced.\n",
    "sns.histplot(data=y,stat=\"count\",discrete='True')"
   ]
  },
  {
   "cell_type": "code",
   "execution_count": 485,
   "metadata": {},
   "outputs": [
    {
     "data": {
      "image/png": "[encoded data removed]",
      "text/plain": [
       "<Figure size 360x360 with 1 Axes>"
      ]
     },
     "metadata": {},
     "output_type": "display_data"
    }
   ],
   "source": [
    "# pie chart\n",
    "plt.rcParams['figure.figsize']=(5,5)\n",
    "plt.pie(semi_df['Pass/Fail'].value_counts(),labels=['Fail','Pass'],colors=['Blue','green'],explode=[0,0.1],autopct=\"%.2f%%\",shadow=True)\n",
    "plt.title('Target: Pass or Fail',fontsize=20)\n",
    "plt.legend()\n",
    "plt.show()"
   ]
  },
  {
   "cell_type": "code",
   "execution_count": 486,
   "metadata": {
    "scrolled": true
   },
   "outputs": [
    {
     "data": {
      "image/png": "[encoded data removed]",
      "text/plain": [
       "<Figure size 1296x1152 with 4 Axes>"
      ]
     },
     "metadata": {
      "needs_background": "light"
     },
     "output_type": "display_data"
    }
   ],
   "source": [
    "# distribution plot to see first four column's distribution\n",
    "\n",
    "plt.rcParams['figure.figsize']=(18,16)\n",
    "\n",
    "plt.subplot(2,2,1)\n",
    "sns.distplot(semi_df['1'],color='darkblue')\n",
    "plt.title('First Sensor Measurements',fontsize=20)\n",
    "\n",
    "plt.subplot(2,2,2)\n",
    "sns.distplot(semi_df['2'],color='red')\n",
    "plt.title('Second Sensor Measurements',fontsize=20)\n",
    "\n",
    "plt.subplot(2,2,3)\n",
    "sns.distplot(semi_df['3'],color='green')\n",
    "plt.title('Third Sensor Measurements',fontsize=20)\n",
    "\n",
    "plt.subplot(2,2,4)\n",
    "sns.distplot(semi_df['4'],color='yellow')\n",
    "plt.title('Forth Sensor Measurements',fontsize=20)\n",
    "\n",
    "plt.show()"
   ]
  },
  {
   "cell_type": "markdown",
   "metadata": {},
   "source": [
    "The feature \"Time\" may or may not be useful in predicting the target, we can visually explore it to eee if it provides any meanigful data."
   ]
  },
  {
   "cell_type": "code",
   "execution_count": 487,
   "metadata": {},
   "outputs": [],
   "source": [
    "from datetime import datetime\n",
    "semi_df['year']=pd.DatetimeIndex(semi_df['Time']).year\n",
    "semi_df['month']=pd.DatetimeIndex(semi_df['Time']).month\n",
    "semi_df['date']=pd.DatetimeIndex(semi_df['Time']).day\n",
    "semi_df['week_day']=pd.DatetimeIndex(semi_df['Time']).weekday\n",
    "semi_df['start_time']=pd.DatetimeIndex(semi_df['Time']).time\n",
    "semi_df['hour']=pd.DatetimeIndex(semi_df['Time']).hour\n",
    "semi_df['min']=pd.DatetimeIndex(semi_df['Time']).minute\n",
    "semi_df=semi_df.drop(\"Time\",axis=1)"
   ]
  },
  {
   "cell_type": "code",
   "execution_count": 488,
   "metadata": {},
   "outputs": [
    {
     "data": {
      "text/html": [
       "<div>\n",
       "<style scoped>\n",
       "    .dataframe tbody tr th:only-of-type {\n",
       "        vertical-align: middle;\n",
       "    }\n",
       "\n",
       "    .dataframe tbody tr th {\n",
       "        vertical-align: top;\n",
       "    }\n",
       "\n",
       "    .dataframe thead th {\n",
       "        text-align: right;\n",
       "    }\n",
       "</style>\n",
       "<table border=\"1\" class=\"dataframe\">\n",
       "  <thead>\n",
       "    <tr style=\"text-align: right;\">\n",
       "      <th></th>\n",
       "      <th>0</th>\n",
       "      <th>1</th>\n",
       "      <th>2</th>\n",
       "      <th>3</th>\n",
       "      <th>4</th>\n",
       "      <th>5</th>\n",
       "      <th>6</th>\n",
       "      <th>7</th>\n",
       "      <th>8</th>\n",
       "      <th>9</th>\n",
       "      <th>...</th>\n",
       "      <th>588</th>\n",
       "      <th>589</th>\n",
       "      <th>Pass/Fail</th>\n",
       "      <th>year</th>\n",
       "      <th>month</th>\n",
       "      <th>date</th>\n",
       "      <th>week_day</th>\n",
       "      <th>start_time</th>\n",
       "      <th>hour</th>\n",
       "      <th>min</th>\n",
       "    </tr>\n",
       "  </thead>\n",
       "  <tbody>\n",
       "    <tr>\n",
       "      <th>0</th>\n",
       "      <td>3030.93</td>\n",
       "      <td>2564.00</td>\n",
       "      <td>2187.7333</td>\n",
       "      <td>1411.1265</td>\n",
       "      <td>1.3602</td>\n",
       "      <td>100.0</td>\n",
       "      <td>97.6133</td>\n",
       "      <td>0.1242</td>\n",
       "      <td>1.5005</td>\n",
       "      <td>0.0162</td>\n",
       "      <td>...</td>\n",
       "      <td>0.0046</td>\n",
       "      <td>71.9005</td>\n",
       "      <td>-1</td>\n",
       "      <td>2008</td>\n",
       "      <td>7</td>\n",
       "      <td>19</td>\n",
       "      <td>5</td>\n",
       "      <td>11:55:00</td>\n",
       "      <td>11</td>\n",
       "      <td>55</td>\n",
       "    </tr>\n",
       "    <tr>\n",
       "      <th>1</th>\n",
       "      <td>3095.78</td>\n",
       "      <td>2465.14</td>\n",
       "      <td>2230.4222</td>\n",
       "      <td>1463.6606</td>\n",
       "      <td>0.8294</td>\n",
       "      <td>100.0</td>\n",
       "      <td>102.3433</td>\n",
       "      <td>0.1247</td>\n",
       "      <td>1.4966</td>\n",
       "      <td>-0.0005</td>\n",
       "      <td>...</td>\n",
       "      <td>0.0060</td>\n",
       "      <td>208.2045</td>\n",
       "      <td>-1</td>\n",
       "      <td>2008</td>\n",
       "      <td>7</td>\n",
       "      <td>19</td>\n",
       "      <td>5</td>\n",
       "      <td>12:32:00</td>\n",
       "      <td>12</td>\n",
       "      <td>32</td>\n",
       "    </tr>\n",
       "    <tr>\n",
       "      <th>2</th>\n",
       "      <td>2932.61</td>\n",
       "      <td>2559.94</td>\n",
       "      <td>2186.4111</td>\n",
       "      <td>1698.0172</td>\n",
       "      <td>1.5102</td>\n",
       "      <td>100.0</td>\n",
       "      <td>95.4878</td>\n",
       "      <td>0.1241</td>\n",
       "      <td>1.4436</td>\n",
       "      <td>0.0041</td>\n",
       "      <td>...</td>\n",
       "      <td>0.0148</td>\n",
       "      <td>82.8602</td>\n",
       "      <td>1</td>\n",
       "      <td>2008</td>\n",
       "      <td>7</td>\n",
       "      <td>19</td>\n",
       "      <td>5</td>\n",
       "      <td>13:17:00</td>\n",
       "      <td>13</td>\n",
       "      <td>17</td>\n",
       "    </tr>\n",
       "    <tr>\n",
       "      <th>3</th>\n",
       "      <td>2988.72</td>\n",
       "      <td>2479.90</td>\n",
       "      <td>2199.0333</td>\n",
       "      <td>909.7926</td>\n",
       "      <td>1.3204</td>\n",
       "      <td>100.0</td>\n",
       "      <td>104.2367</td>\n",
       "      <td>0.1217</td>\n",
       "      <td>1.4882</td>\n",
       "      <td>-0.0124</td>\n",
       "      <td>...</td>\n",
       "      <td>0.0044</td>\n",
       "      <td>73.8432</td>\n",
       "      <td>-1</td>\n",
       "      <td>2008</td>\n",
       "      <td>7</td>\n",
       "      <td>19</td>\n",
       "      <td>5</td>\n",
       "      <td>14:43:00</td>\n",
       "      <td>14</td>\n",
       "      <td>43</td>\n",
       "    </tr>\n",
       "    <tr>\n",
       "      <th>4</th>\n",
       "      <td>3032.24</td>\n",
       "      <td>2502.87</td>\n",
       "      <td>2233.3667</td>\n",
       "      <td>1326.5200</td>\n",
       "      <td>1.5334</td>\n",
       "      <td>100.0</td>\n",
       "      <td>100.3967</td>\n",
       "      <td>0.1235</td>\n",
       "      <td>1.5031</td>\n",
       "      <td>-0.0031</td>\n",
       "      <td>...</td>\n",
       "      <td>0.0044</td>\n",
       "      <td>73.8432</td>\n",
       "      <td>-1</td>\n",
       "      <td>2008</td>\n",
       "      <td>7</td>\n",
       "      <td>19</td>\n",
       "      <td>5</td>\n",
       "      <td>15:22:00</td>\n",
       "      <td>15</td>\n",
       "      <td>22</td>\n",
       "    </tr>\n",
       "  </tbody>\n",
       "</table>\n",
       "<p>5 rows × 598 columns</p>\n",
       "</div>"
      ],
      "text/plain": [
       "         0        1          2          3       4      5         6       7  \\\n",
       "0  3030.93  2564.00  2187.7333  1411.1265  1.3602  100.0   97.6133  0.1242   \n",
       "1  3095.78  2465.14  2230.4222  1463.6606  0.8294  100.0  102.3433  0.1247   \n",
       "2  2932.61  2559.94  2186.4111  1698.0172  1.5102  100.0   95.4878  0.1241   \n",
       "3  2988.72  2479.90  2199.0333   909.7926  1.3204  100.0  104.2367  0.1217   \n",
       "4  3032.24  2502.87  2233.3667  1326.5200  1.5334  100.0  100.3967  0.1235   \n",
       "\n",
       "        8       9  ...     588       589  Pass/Fail  year  month  date  \\\n",
       "0  1.5005  0.0162  ...  0.0046   71.9005         -1  2008      7    19   \n",
       "1  1.4966 -0.0005  ...  0.0060  208.2045         -1  2008      7    19   \n",
       "2  1.4436  0.0041  ...  0.0148   82.8602          1  2008      7    19   \n",
       "3  1.4882 -0.0124  ...  0.0044   73.8432         -1  2008      7    19   \n",
       "4  1.5031 -0.0031  ...  0.0044   73.8432         -1  2008      7    19   \n",
       "\n",
       "   week_day  start_time  hour  min  \n",
       "0         5    11:55:00    11   55  \n",
       "1         5    12:32:00    12   32  \n",
       "2         5    13:17:00    13   17  \n",
       "3         5    14:43:00    14   43  \n",
       "4         5    15:22:00    15   22  \n",
       "\n",
       "[5 rows x 598 columns]"
      ]
     },
     "execution_count": 488,
     "metadata": {},
     "output_type": "execute_result"
    }
   ],
   "source": [
    "semi_df.head()"
   ]
  },
  {
   "cell_type": "code",
   "execution_count": 489,
   "metadata": {},
   "outputs": [
    {
     "data": {
      "text/plain": [
       "array([2008], dtype=int64)"
      ]
     },
     "execution_count": 489,
     "metadata": {},
     "output_type": "execute_result"
    }
   ],
   "source": [
    "semi_df.year.unique()"
   ]
  },
  {
   "cell_type": "code",
   "execution_count": 490,
   "metadata": {},
   "outputs": [
    {
     "data": {
      "text/plain": [
       "array([ 7,  1,  2,  3,  4,  5,  6,  8,  9, 10, 11, 12], dtype=int64)"
      ]
     },
     "execution_count": 490,
     "metadata": {},
     "output_type": "execute_result"
    }
   ],
   "source": [
    "semi_df.month.unique()"
   ]
  },
  {
   "cell_type": "code",
   "execution_count": 491,
   "metadata": {},
   "outputs": [
    {
     "data": {
      "text/plain": [
       "array([19, 20, 21, 22, 23, 25, 27, 28, 29, 30, 31,  8, 13, 15, 16, 17, 18,\n",
       "       24,  9, 14, 26, 10], dtype=int64)"
      ]
     },
     "execution_count": 491,
     "metadata": {},
     "output_type": "execute_result"
    }
   ],
   "source": [
    "semi_df.date.unique()"
   ]
  },
  {
   "cell_type": "code",
   "execution_count": 492,
   "metadata": {},
   "outputs": [
    {
     "data": {
      "text/plain": [
       "array([5, 6, 0, 1, 2, 4, 3], dtype=int64)"
      ]
     },
     "execution_count": 492,
     "metadata": {},
     "output_type": "execute_result"
    }
   ],
   "source": [
    "semi_df.week_day.unique()"
   ]
  },
  {
   "cell_type": "markdown",
   "metadata": {},
   "source": [
    "Data recieved is from all the months of the 2008 calender year cycle.Although it is not recorder everyday of the month we can see that production happens throughout the week even on sundays."
   ]
  },
  {
   "cell_type": "code",
   "execution_count": 493,
   "metadata": {},
   "outputs": [
    {
     "data": {
      "image/png": "[encoded data removed]",
      "text/plain": [
       "<Figure size 1296x1152 with 1 Axes>"
      ]
     },
     "metadata": {
      "needs_background": "light"
     },
     "output_type": "display_data"
    }
   ],
   "source": [
    "sns.histplot(data=semi_df,x=\"month\",hue=\"Pass/Fail\",stat=\"probability\",discrete=True);"
   ]
  },
  {
   "cell_type": "code",
   "execution_count": 494,
   "metadata": {},
   "outputs": [
    {
     "data": {
      "image/png": "[encoded data removed]",
      "text/plain": [
       "<Figure size 1296x1152 with 1 Axes>"
      ]
     },
     "metadata": {
      "needs_background": "light"
     },
     "output_type": "display_data"
    }
   ],
   "source": [
    "sns.histplot(data=semi_df,x=\"date\",hue=\"Pass/Fail\",stat=\"probability\",discrete=True);"
   ]
  },
  {
   "cell_type": "code",
   "execution_count": 495,
   "metadata": {},
   "outputs": [
    {
     "data": {
      "image/png": "[encoded data removed]",
      "text/plain": [
       "<Figure size 1296x1152 with 1 Axes>"
      ]
     },
     "metadata": {
      "needs_background": "light"
     },
     "output_type": "display_data"
    }
   ],
   "source": [
    "sns.histplot(data=semi_df,x=\"week_day\",hue=\"Pass/Fail\",stat=\"probability\",discrete=True);"
   ]
  },
  {
   "cell_type": "code",
   "execution_count": 496,
   "metadata": {},
   "outputs": [
    {
     "data": {
      "image/png": "[encoded data removed]",
      "text/plain": [
       "<Figure size 1296x1152 with 1 Axes>"
      ]
     },
     "metadata": {
      "needs_background": "light"
     },
     "output_type": "display_data"
    }
   ],
   "source": [
    "sns.histplot(data=semi_df,x=\"hour\",hue=\"Pass/Fail\",stat=\"probability\",discrete=True);"
   ]
  },
  {
   "cell_type": "code",
   "execution_count": 497,
   "metadata": {},
   "outputs": [],
   "source": [
    "semi_df1=semi_df.drop(['year','month','date','week_day','start_time','hour','min'],1)"
   ]
  },
  {
   "cell_type": "code",
   "execution_count": 498,
   "metadata": {},
   "outputs": [
    {
     "data": {
      "text/plain": [
       "0"
      ]
     },
     "execution_count": 498,
     "metadata": {},
     "output_type": "execute_result"
    }
   ],
   "source": [
    "#We don't have NaN values\n",
    "semi_df1.isnull().sum().sum()"
   ]
  },
  {
   "cell_type": "markdown",
   "metadata": {},
   "source": [
    "### 4. Data pre-processing:"
   ]
  },
  {
   "cell_type": "markdown",
   "metadata": {},
   "source": [
    "#### • Segregate predictors vs target attributes"
   ]
  },
  {
   "cell_type": "markdown",
   "metadata": {},
   "source": [
    "Note: Already segregated above. X is predictors and y is target"
   ]
  },
  {
   "cell_type": "markdown",
   "metadata": {},
   "source": [
    "#### • Check for target balancing and fix it if found imbalanced."
   ]
  },
  {
   "cell_type": "code",
   "execution_count": 499,
   "metadata": {},
   "outputs": [
    {
     "data": {
      "text/plain": [
       "-1    1463\n",
       " 1     104\n",
       "Name: Pass/Fail, dtype: int64"
      ]
     },
     "execution_count": 499,
     "metadata": {},
     "output_type": "execute_result"
    }
   ],
   "source": [
    "y=semi_df['Pass/Fail']\n",
    "y.value_counts()"
   ]
  },
  {
   "cell_type": "code",
   "execution_count": 500,
   "metadata": {},
   "outputs": [
    {
     "data": {
      "text/html": [
       "<div>\n",
       "<style scoped>\n",
       "    .dataframe tbody tr th:only-of-type {\n",
       "        vertical-align: middle;\n",
       "    }\n",
       "\n",
       "    .dataframe tbody tr th {\n",
       "        vertical-align: top;\n",
       "    }\n",
       "\n",
       "    .dataframe thead th {\n",
       "        text-align: right;\n",
       "    }\n",
       "</style>\n",
       "<table border=\"1\" class=\"dataframe\">\n",
       "  <thead>\n",
       "    <tr style=\"text-align: right;\">\n",
       "      <th></th>\n",
       "      <th>0</th>\n",
       "      <th>1</th>\n",
       "      <th>2</th>\n",
       "      <th>3</th>\n",
       "      <th>7</th>\n",
       "      <th>8</th>\n",
       "      <th>9</th>\n",
       "      <th>10</th>\n",
       "      <th>11</th>\n",
       "      <th>14</th>\n",
       "      <th>...</th>\n",
       "      <th>563</th>\n",
       "      <th>568</th>\n",
       "      <th>569</th>\n",
       "      <th>571</th>\n",
       "      <th>575</th>\n",
       "      <th>578</th>\n",
       "      <th>582</th>\n",
       "      <th>583</th>\n",
       "      <th>587</th>\n",
       "      <th>589</th>\n",
       "    </tr>\n",
       "  </thead>\n",
       "  <tbody>\n",
       "    <tr>\n",
       "      <th>count</th>\n",
       "      <td>1.567000e+03</td>\n",
       "      <td>1.567000e+03</td>\n",
       "      <td>1.567000e+03</td>\n",
       "      <td>1.567000e+03</td>\n",
       "      <td>1.567000e+03</td>\n",
       "      <td>1.567000e+03</td>\n",
       "      <td>1.567000e+03</td>\n",
       "      <td>1.567000e+03</td>\n",
       "      <td>1.567000e+03</td>\n",
       "      <td>1.567000e+03</td>\n",
       "      <td>...</td>\n",
       "      <td>1.567000e+03</td>\n",
       "      <td>1.567000e+03</td>\n",
       "      <td>1.567000e+03</td>\n",
       "      <td>1.567000e+03</td>\n",
       "      <td>1.567000e+03</td>\n",
       "      <td>1.567000e+03</td>\n",
       "      <td>1.567000e+03</td>\n",
       "      <td>1.567000e+03</td>\n",
       "      <td>1.567000e+03</td>\n",
       "      <td>1.567000e+03</td>\n",
       "    </tr>\n",
       "    <tr>\n",
       "      <th>mean</th>\n",
       "      <td>1.626934e-15</td>\n",
       "      <td>-5.044111e-15</td>\n",
       "      <td>-5.769228e-15</td>\n",
       "      <td>-4.202835e-16</td>\n",
       "      <td>1.144107e-15</td>\n",
       "      <td>1.709262e-18</td>\n",
       "      <td>9.850395e-18</td>\n",
       "      <td>-1.385565e-17</td>\n",
       "      <td>-6.524677e-15</td>\n",
       "      <td>-6.622725e-16</td>\n",
       "      <td>...</td>\n",
       "      <td>8.205165e-16</td>\n",
       "      <td>9.257290e-16</td>\n",
       "      <td>-8.021131e-16</td>\n",
       "      <td>-7.148788e-16</td>\n",
       "      <td>2.724191e-16</td>\n",
       "      <td>9.267209e-17</td>\n",
       "      <td>-1.221316e-15</td>\n",
       "      <td>1.914019e-16</td>\n",
       "      <td>1.095964e-17</td>\n",
       "      <td>-2.666448e-16</td>\n",
       "    </tr>\n",
       "    <tr>\n",
       "      <th>std</th>\n",
       "      <td>1.000319e+00</td>\n",
       "      <td>1.000319e+00</td>\n",
       "      <td>1.000319e+00</td>\n",
       "      <td>1.000319e+00</td>\n",
       "      <td>1.000319e+00</td>\n",
       "      <td>1.000319e+00</td>\n",
       "      <td>1.000319e+00</td>\n",
       "      <td>1.000319e+00</td>\n",
       "      <td>1.000319e+00</td>\n",
       "      <td>1.000319e+00</td>\n",
       "      <td>...</td>\n",
       "      <td>1.000319e+00</td>\n",
       "      <td>1.000319e+00</td>\n",
       "      <td>1.000319e+00</td>\n",
       "      <td>1.000319e+00</td>\n",
       "      <td>1.000319e+00</td>\n",
       "      <td>1.000319e+00</td>\n",
       "      <td>1.000319e+00</td>\n",
       "      <td>1.000319e+00</td>\n",
       "      <td>1.000319e+00</td>\n",
       "      <td>1.000319e+00</td>\n",
       "    </tr>\n",
       "    <tr>\n",
       "      <th>min</th>\n",
       "      <td>-3.691957e+00</td>\n",
       "      <td>-4.203310e+00</td>\n",
       "      <td>-4.762831e+00</td>\n",
       "      <td>-3.173512e+00</td>\n",
       "      <td>-1.363794e+01</td>\n",
       "      <td>-3.682453e+00</td>\n",
       "      <td>-3.480291e+00</td>\n",
       "      <td>-3.771152e+00</td>\n",
       "      <td>-2.483511e+01</td>\n",
       "      <td>-2.418882e+00</td>\n",
       "      <td>...</td>\n",
       "      <td>-3.327079e+00</td>\n",
       "      <td>-2.173650e+00</td>\n",
       "      <td>-1.822541e+00</td>\n",
       "      <td>-4.078321e+00</td>\n",
       "      <td>-1.205988e+00</td>\n",
       "      <td>-5.115939e+00</td>\n",
       "      <td>-6.553566e+00</td>\n",
       "      <td>-5.426516e-01</td>\n",
       "      <td>-1.508045e+00</td>\n",
       "      <td>-1.062000e+00</td>\n",
       "    </tr>\n",
       "    <tr>\n",
       "      <th>25%</th>\n",
       "      <td>-6.503981e-01</td>\n",
       "      <td>-5.359071e-01</td>\n",
       "      <td>-6.622727e-01</td>\n",
       "      <td>-7.084372e-01</td>\n",
       "      <td>-8.114205e-02</td>\n",
       "      <td>-6.990788e-01</td>\n",
       "      <td>-6.594210e-01</td>\n",
       "      <td>-6.183096e-01</td>\n",
       "      <td>-5.027740e-01</td>\n",
       "      <td>-6.833263e-01</td>\n",
       "      <td>...</td>\n",
       "      <td>-9.677611e-01</td>\n",
       "      <td>-5.308336e-01</td>\n",
       "      <td>-5.241992e-01</td>\n",
       "      <td>-4.324579e-01</td>\n",
       "      <td>-4.372051e-01</td>\n",
       "      <td>-6.486560e-02</td>\n",
       "      <td>-6.455427e-01</td>\n",
       "      <td>-2.164823e-01</td>\n",
       "      <td>-6.673285e-01</td>\n",
       "      <td>-5.891616e-01</td>\n",
       "    </tr>\n",
       "    <tr>\n",
       "      <th>50%</th>\n",
       "      <td>-4.018045e-02</td>\n",
       "      <td>4.412441e-02</td>\n",
       "      <td>1.752516e-02</td>\n",
       "      <td>-2.505568e-01</td>\n",
       "      <td>6.438927e-02</td>\n",
       "      <td>-1.706789e-02</td>\n",
       "      <td>-3.035361e-02</td>\n",
       "      <td>2.732371e-02</td>\n",
       "      <td>1.161854e-01</td>\n",
       "      <td>-1.371168e-02</td>\n",
       "      <td>...</td>\n",
       "      <td>-2.128154e-01</td>\n",
       "      <td>-4.057069e-01</td>\n",
       "      <td>-3.624193e-01</td>\n",
       "      <td>6.095354e-02</td>\n",
       "      <td>-2.247201e-01</td>\n",
       "      <td>-6.486560e-02</td>\n",
       "      <td>3.049985e-02</td>\n",
       "      <td>-8.834434e-02</td>\n",
       "      <td>-1.901650e-01</td>\n",
       "      <td>-2.957528e-01</td>\n",
       "    </tr>\n",
       "    <tr>\n",
       "      <th>75%</th>\n",
       "      <td>5.731002e-01</td>\n",
       "      <td>5.346326e-01</td>\n",
       "      <td>5.959343e-01</td>\n",
       "      <td>4.430015e-01</td>\n",
       "      <td>2.211153e-01</td>\n",
       "      <td>7.313154e-01</td>\n",
       "      <td>6.119573e-01</td>\n",
       "      <td>6.191542e-01</td>\n",
       "      <td>5.582993e-01</td>\n",
       "      <td>6.635828e-01</td>\n",
       "      <td>...</td>\n",
       "      <td>5.722741e-01</td>\n",
       "      <td>4.712104e-01</td>\n",
       "      <td>2.802629e-01</td>\n",
       "      <td>6.865352e-01</td>\n",
       "      <td>1.095011e-01</td>\n",
       "      <td>-6.486560e-02</td>\n",
       "      <td>6.624526e-01</td>\n",
       "      <td>6.891587e-02</td>\n",
       "      <td>4.346919e-01</td>\n",
       "      <td>1.608933e-01</td>\n",
       "    </tr>\n",
       "    <tr>\n",
       "      <th>max</th>\n",
       "      <td>4.654514e+00</td>\n",
       "      <td>4.371107e+00</td>\n",
       "      <td>3.905635e+00</td>\n",
       "      <td>5.275584e+00</td>\n",
       "      <td>7.584617e-01</td>\n",
       "      <td>2.621576e+00</td>\n",
       "      <td>5.015429e+00</td>\n",
       "      <td>5.687376e+00</td>\n",
       "      <td>1.643488e+00</td>\n",
       "      <td>3.774118e+00</td>\n",
       "      <td>...</td>\n",
       "      <td>5.616193e+00</td>\n",
       "      <td>1.125668e+01</td>\n",
       "      <td>6.845116e+00</td>\n",
       "      <td>2.318574e+00</td>\n",
       "      <td>6.573325e+00</td>\n",
       "      <td>1.109354e+01</td>\n",
       "      <td>2.852243e+00</td>\n",
       "      <td>2.686722e+01</td>\n",
       "      <td>7.205869e+00</td>\n",
       "      <td>6.795494e+00</td>\n",
       "    </tr>\n",
       "  </tbody>\n",
       "</table>\n",
       "<p>8 rows × 159 columns</p>\n",
       "</div>"
      ],
      "text/plain": [
       "                  0             1             2             3             7  \\\n",
       "count  1.567000e+03  1.567000e+03  1.567000e+03  1.567000e+03  1.567000e+03   \n",
       "mean   1.626934e-15 -5.044111e-15 -5.769228e-15 -4.202835e-16  1.144107e-15   \n",
       "std    1.000319e+00  1.000319e+00  1.000319e+00  1.000319e+00  1.000319e+00   \n",
       "min   -3.691957e+00 -4.203310e+00 -4.762831e+00 -3.173512e+00 -1.363794e+01   \n",
       "25%   -6.503981e-01 -5.359071e-01 -6.622727e-01 -7.084372e-01 -8.114205e-02   \n",
       "50%   -4.018045e-02  4.412441e-02  1.752516e-02 -2.505568e-01  6.438927e-02   \n",
       "75%    5.731002e-01  5.346326e-01  5.959343e-01  4.430015e-01  2.211153e-01   \n",
       "max    4.654514e+00  4.371107e+00  3.905635e+00  5.275584e+00  7.584617e-01   \n",
       "\n",
       "                  8             9            10            11            14  \\\n",
       "count  1.567000e+03  1.567000e+03  1.567000e+03  1.567000e+03  1.567000e+03   \n",
       "mean   1.709262e-18  9.850395e-18 -1.385565e-17 -6.524677e-15 -6.622725e-16   \n",
       "std    1.000319e+00  1.000319e+00  1.000319e+00  1.000319e+00  1.000319e+00   \n",
       "min   -3.682453e+00 -3.480291e+00 -3.771152e+00 -2.483511e+01 -2.418882e+00   \n",
       "25%   -6.990788e-01 -6.594210e-01 -6.183096e-01 -5.027740e-01 -6.833263e-01   \n",
       "50%   -1.706789e-02 -3.035361e-02  2.732371e-02  1.161854e-01 -1.371168e-02   \n",
       "75%    7.313154e-01  6.119573e-01  6.191542e-01  5.582993e-01  6.635828e-01   \n",
       "max    2.621576e+00  5.015429e+00  5.687376e+00  1.643488e+00  3.774118e+00   \n",
       "\n",
       "       ...           563           568           569           571  \\\n",
       "count  ...  1.567000e+03  1.567000e+03  1.567000e+03  1.567000e+03   \n",
       "mean   ...  8.205165e-16  9.257290e-16 -8.021131e-16 -7.148788e-16   \n",
       "std    ...  1.000319e+00  1.000319e+00  1.000319e+00  1.000319e+00   \n",
       "min    ... -3.327079e+00 -2.173650e+00 -1.822541e+00 -4.078321e+00   \n",
       "25%    ... -9.677611e-01 -5.308336e-01 -5.241992e-01 -4.324579e-01   \n",
       "50%    ... -2.128154e-01 -4.057069e-01 -3.624193e-01  6.095354e-02   \n",
       "75%    ...  5.722741e-01  4.712104e-01  2.802629e-01  6.865352e-01   \n",
       "max    ...  5.616193e+00  1.125668e+01  6.845116e+00  2.318574e+00   \n",
       "\n",
       "                575           578           582           583           587  \\\n",
       "count  1.567000e+03  1.567000e+03  1.567000e+03  1.567000e+03  1.567000e+03   \n",
       "mean   2.724191e-16  9.267209e-17 -1.221316e-15  1.914019e-16  1.095964e-17   \n",
       "std    1.000319e+00  1.000319e+00  1.000319e+00  1.000319e+00  1.000319e+00   \n",
       "min   -1.205988e+00 -5.115939e+00 -6.553566e+00 -5.426516e-01 -1.508045e+00   \n",
       "25%   -4.372051e-01 -6.486560e-02 -6.455427e-01 -2.164823e-01 -6.673285e-01   \n",
       "50%   -2.247201e-01 -6.486560e-02  3.049985e-02 -8.834434e-02 -1.901650e-01   \n",
       "75%    1.095011e-01 -6.486560e-02  6.624526e-01  6.891587e-02  4.346919e-01   \n",
       "max    6.573325e+00  1.109354e+01  2.852243e+00  2.686722e+01  7.205869e+00   \n",
       "\n",
       "                589  \n",
       "count  1.567000e+03  \n",
       "mean  -2.666448e-16  \n",
       "std    1.000319e+00  \n",
       "min   -1.062000e+00  \n",
       "25%   -5.891616e-01  \n",
       "50%   -2.957528e-01  \n",
       "75%    1.608933e-01  \n",
       "max    6.795494e+00  \n",
       "\n",
       "[8 rows x 159 columns]"
      ]
     },
     "execution_count": 500,
     "metadata": {},
     "output_type": "execute_result"
    }
   ],
   "source": [
    "# We are scaling the numeric attributes before spliting for training and testing\n",
    "from scipy.stats import zscore\n",
    "XScaled=X_preprprocessed.apply(zscore)\n",
    "XScaled.describe()"
   ]
  },
  {
   "cell_type": "markdown",
   "metadata": {},
   "source": [
    "### • Perform train-test split and standardise the data or vice versa if required."
   ]
  },
  {
   "cell_type": "code",
   "execution_count": 501,
   "metadata": {},
   "outputs": [],
   "source": [
    "#Stratify is used so that the test set is representative of the much larger train set. Let's see if that worked by taking the average value of y_train and y_test\n",
    "X_train,X_test,y_train,y_test=train_test_split(XScaled,y,test_size=0.30,random_state=42,stratify=y)"
   ]
  },
  {
   "cell_type": "code",
   "execution_count": 502,
   "metadata": {},
   "outputs": [
    {
     "data": {
      "text/plain": [
       "-0.6062539885130823"
      ]
     },
     "execution_count": 502,
     "metadata": {},
     "output_type": "execute_result"
    }
   ],
   "source": [
    "sum(y_train)/len(y)"
   ]
  },
  {
   "cell_type": "code",
   "execution_count": 503,
   "metadata": {},
   "outputs": [
    {
     "data": {
      "text/plain": [
       "-0.8667883211678832"
      ]
     },
     "execution_count": 503,
     "metadata": {},
     "output_type": "execute_result"
    }
   ],
   "source": [
    "sum(y_train)/len(y_train)"
   ]
  },
  {
   "cell_type": "code",
   "execution_count": 504,
   "metadata": {},
   "outputs": [
    {
     "data": {
      "text/plain": [
       "-0.8667883211678832"
      ]
     },
     "execution_count": 504,
     "metadata": {},
     "output_type": "execute_result"
    }
   ],
   "source": [
    "sum(y_train)/len(y_train)"
   ]
  },
  {
   "cell_type": "code",
   "execution_count": 508,
   "metadata": {},
   "outputs": [
    {
     "name": "stdout",
     "output_type": "stream",
     "text": [
      "Before Upsampling, counts of label '-1':1023\n",
      "Before Usampling, counts of label '1':73 \n",
      "\n",
      "After Upsampling, counts of label '-1':1023\n",
      "After Upsampling, counts of label '1':1023\n",
      "\n",
      "After Upsampling, counts of label '-1':2046\n",
      "After Upsampling, counts of label '1':2046\n"
     ]
    }
   ],
   "source": [
    "#Since the y dataset is imbalanced. Let us use SMOTE (overSampling or Upsampling)\n",
    "\n",
    "from imblearn.over_sampling import SMOTE\n",
    "print(\"Before Upsampling, counts of label '-1':{}\".format(sum(y_train==-1)))\n",
    "print(\"Before Usampling, counts of label '1':{} \\n\".format(sum(y_train==1)))\n",
    "\n",
    "sm=SMOTE(sampling_strategy=1,k_neighbors=5,random_state=1)\n",
    "X_train_res,y_train_res=sm.fit_sample(X_train,y_train.ravel())\n",
    "\n",
    "print(\"After Upsampling, counts of label '-1':{}\".format(sum(y_train_res==-1)))\n",
    "print(\"After Upsampling, counts of label '1':{}\".format(sum(y_train_res==1)))\n",
    "print(\"\")\n",
    "print(\"After Upsampling, counts of label '-1':{}\".format(sum(y_train_res.shape)))\n",
    "print(\"After Upsampling, counts of label '1':{}\".format(sum(y_train_res.shape)))"
   ]
  },
  {
   "cell_type": "code",
   "execution_count": 509,
   "metadata": {},
   "outputs": [
    {
     "name": "stdout",
     "output_type": "stream",
     "text": [
      "Before Upsampling, counts of label '-1':1023\n",
      "Before Usampling, counts of label '1':73 \n",
      "\n",
      "After Upsampling, counts of label '-1':73\n",
      "After Upsampling, counts of label '1':73 \n",
      "\n",
      "After Upsampling, counts of label '-1':146\n",
      "After Upsampling, counts of label '1':146\n"
     ]
    }
   ],
   "source": [
    "#Undersampling or downsampling\n",
    "from imblearn.under_sampling import RandomUnderSampler \n",
    "\n",
    "print(\"Before Upsampling, counts of label '-1':{}\".format(sum(y_train==-1)))\n",
    "print(\"Before Usampling, counts of label '1':{} \\n\".format(sum(y_train==1)))\n",
    "\n",
    "rus=RandomUnderSampler(sampling_strategy='majority')\n",
    "X_train_rusUn,y_train_rusUn=rus.fit_sample(X_train,y_train)\n",
    "\n",
    "print(\"After Upsampling, counts of label '-1':{}\".format(sum(y_train_rusUn==-1)))\n",
    "print(\"After Upsampling, counts of label '1':{} \\n\".format(sum(y_train_rusUn==1)))\n",
    "\n",
    "print(\"After Upsampling, counts of label '-1':{}\".format(sum(y_train_rusUn.shape)))\n",
    "print(\"After Upsampling, counts of label '1':{}\".format(sum(y_train_rusUn.shape)))\n"
   ]
  },
  {
   "cell_type": "markdown",
   "metadata": {},
   "source": [
    "#### • Check if the train and test data have similar statistical characteristics when compared with original data."
   ]
  },
  {
   "cell_type": "code",
   "execution_count": 510,
   "metadata": {},
   "outputs": [
    {
     "name": "stdout",
     "output_type": "stream",
     "text": [
      "Fail : 1463 (6.64%)\n",
      "Pass : 104 (93.36%)\n",
      "\n",
      "\n",
      "Fail while training : 1023 (6.66%)\n",
      "Pass while training : 73 (93.34%)\n",
      "\n",
      "\n",
      "Fail while testing : 440 (6.58%)\n",
      "Pass while testing : 31 (93.42%)\n"
     ]
    }
   ],
   "source": [
    "print(\"Fail : {0} ({1:0.2f}%)\".format(len(semi_df.loc[semi_df['Pass/Fail']==-1]),(len(semi_df.loc[semi_df['Pass/Fail']==1])/len(semi_df.index))*100))\n",
    "print(\"Pass : {0} ({1:0.2f}%)\".format(len(semi_df.loc[semi_df['Pass/Fail']==1]),(len(semi_df.loc[semi_df['Pass/Fail']==-1])/len(semi_df.index))*100))\n",
    "print(\"\\n\")\n",
    "print(\"Fail while training : {0} ({1:0.2f}%)\".format(len(y_train[y_train[:]==-1]),(len(y_train[y_train[:]==1])/len(y_train))*100))\n",
    "print(\"Pass while training : {0} ({1:0.2f}%)\".format(len(y_train[y_train[:]==1]),(len(y_train[y_train[:]==-1])/len(y_train))*100))\n",
    "print(\"\\n\")                                                                                                 \n",
    "print(\"Fail while testing : {0} ({1:0.2f}%)\".format(len(y_test[y_test[:]==-1]),(len(y_test[y_test[:]==1])/len(y_test))*100))\n",
    "print(\"Pass while testing : {0} ({1:0.2f}%)\".format(len(y_test[y_test[:]==1]),(len(y_test[y_test[:]==-1])/len(y_test))*100))"
   ]
  },
  {
   "cell_type": "markdown",
   "metadata": {},
   "source": [
    "### 5. Model training, testing and tuning:"
   ]
  },
  {
   "cell_type": "markdown",
   "metadata": {},
   "source": [
    "### • Model training:"
   ]
  },
  {
   "cell_type": "markdown",
   "metadata": {},
   "source": [
    "### - Pick up a supervised learning model."
   ]
  },
  {
   "cell_type": "code",
   "execution_count": 511,
   "metadata": {},
   "outputs": [
    {
     "name": "stdout",
     "output_type": "stream",
     "text": [
      "0.958941605839416\n",
      "0.9193205944798302\n",
      "              precision    recall  f1-score   support\n",
      "\n",
      "          -1       0.95      0.97      0.96       440\n",
      "           1       0.33      0.23      0.27        31\n",
      "\n",
      "    accuracy                           0.92       471\n",
      "   macro avg       0.64      0.60      0.61       471\n",
      "weighted avg       0.91      0.92      0.91       471\n",
      "\n",
      "[[426  14]\n",
      " [ 24   7]]\n",
      "ROC-AUC Score=0.60\n"
     ]
    }
   ],
   "source": [
    "# Fit the model on original data using Logistic Regression i.e. before upsampling\n",
    "from sklearn.linear_model import LogisticRegression\n",
    "\n",
    "modelLR_BSamp=LogisticRegression()\n",
    "modelLR_BSamp.fit(X_train,y_train)\n",
    "y_predict_BSamp=modelLR_BSamp.predict(X_test)\n",
    "\n",
    "model_score_BSampTrain=modelLR_BSamp.score(X_train,y_train)\n",
    "model_score_BSampTest=modelLR_BSamp.score(X_test,y_test)\n",
    "print(model_score_BSampTrain)\n",
    "print(model_score_BSampTest)\n",
    "print(metrics.classification_report(y_test,y_predict_BSamp))\n",
    "print(metrics.confusion_matrix(y_test,y_predict_BSamp))\n",
    "\n",
    "LR_ROC_BSamp=roc_auc_score(y_test,y_predict_BSamp)\n",
    "print(\"ROC-AUC Score={:.2f}\".format(LR_ROC_BSamp))"
   ]
  },
  {
   "cell_type": "code",
   "execution_count": 512,
   "metadata": {},
   "outputs": [
    {
     "name": "stdout",
     "output_type": "stream",
     "text": [
      "0.226 0.333 0.968 14 24\n"
     ]
    }
   ],
   "source": [
    "tn,fp,fn,tp=metrics.confusion_matrix(y_test,y_predict_BSamp).ravel()\n",
    "lrB_recall1=round(tp/(tp+fn),3)\n",
    "lrB_precision1=round(tp/(tp+fp),3)\n",
    "lrB_specificity1=round(tn/(tn+fp),3)\n",
    "type1B_error1=fp\n",
    "type2B_error2=fn\n",
    "print(lrB_recall1,lrB_precision1,lrB_specificity1,type1B_error1,type2B_error2)"
   ]
  },
  {
   "cell_type": "markdown",
   "metadata": {},
   "source": [
    "### - Use cross validation techniques. Hint: Use all CV techniques that you have learnt in the course."
   ]
  },
  {
   "cell_type": "code",
   "execution_count": 513,
   "metadata": {},
   "outputs": [
    {
     "name": "stdout",
     "output_type": "stream",
     "text": [
      "[0.84375    0.71875    0.90625    0.9375     0.875      0.78125\n",
      " 0.9375     0.75       0.90625    0.9375     0.78125    0.9375\n",
      " 0.9375     0.9375     0.9375     0.9375     0.96875    1.\n",
      " 0.87096774 0.96774194 1.         1.         0.96774194 1.\n",
      " 1.         0.93548387 0.93548387 0.96774194 0.96774194 0.90322581\n",
      " 1.         1.         0.96774194 0.96774194 1.         1.\n",
      " 0.93548387 0.93548387 0.96774194 0.83870968 1.         0.93548387\n",
      " 0.77419355 0.90322581 0.96774194 0.96774194 0.93548387 1.\n",
      " 0.96774194 1.        ]\n",
      "Accuracy: 93.224% (7.005%)\n"
     ]
    }
   ],
   "source": [
    "#K fold validation Technique\n",
    "from sklearn.model_selection import KFold\n",
    "from sklearn.model_selection import cross_val_score\n",
    "num_folds=50\n",
    "seed=7\n",
    "\n",
    "kfold=KFold(n_splits=num_folds,random_state=seed)\n",
    "model_kfold=LogisticRegression()\n",
    "\n",
    "results_Kfold=cross_val_score(model_kfold,X,y,cv=kfold)\n",
    "print(results_Kfold)\n",
    "\n",
    "Accu_Kfold=results_Kfold.mean()*100.0,results_Kfold.std()*100.0\n",
    "print(\"Accuracy: %.3f%% (%.3f%%)\" % (Accu_Kfold))"
   ]
  },
  {
   "cell_type": "code",
   "execution_count": 514,
   "metadata": {},
   "outputs": [
    {
     "name": "stdout",
     "output_type": "stream",
     "text": [
      "[1. 1. 0. ... 1. 1. 1.]\n",
      "Accuracy: 92.980% (25.548%)\n"
     ]
    }
   ],
   "source": [
    "# cross validation LOOCV method\n",
    "from sklearn.model_selection import LeaveOneOut\n",
    "loocv=LeaveOneOut()\n",
    "model_CV_LOOCV=LogisticRegression()\n",
    "results_LOOCV=cross_val_score(model_CV_LOOCV,X,y,cv=loocv)\n",
    "print(results_LOOCV)\n",
    "Accu_LOOCV=results_LOOCV.mean()*100.0,results_LOOCV.std()*100.0\n",
    "print(\"Accuracy: %.3f%% (%.3f%%)\" % (Accu_LOOCV))\n"
   ]
  },
  {
   "cell_type": "code",
   "execution_count": 516,
   "metadata": {},
   "outputs": [
    {
     "data": {
      "text/html": [
       "<div>\n",
       "<style scoped>\n",
       "    .dataframe tbody tr th:only-of-type {\n",
       "        vertical-align: middle;\n",
       "    }\n",
       "\n",
       "    .dataframe tbody tr th {\n",
       "        vertical-align: top;\n",
       "    }\n",
       "\n",
       "    .dataframe thead th {\n",
       "        text-align: right;\n",
       "    }\n",
       "</style>\n",
       "<table border=\"1\" class=\"dataframe\">\n",
       "  <thead>\n",
       "    <tr style=\"text-align: right;\">\n",
       "      <th></th>\n",
       "      <th>Model</th>\n",
       "      <th>Cross Validation Score</th>\n",
       "      <th>Accuracy</th>\n",
       "    </tr>\n",
       "  </thead>\n",
       "  <tbody>\n",
       "    <tr>\n",
       "      <th>0</th>\n",
       "      <td>KFold</td>\n",
       "      <td>[0.84375, 0.71875, 0.90625, 0.9375, 0.875, 0.7...</td>\n",
       "      <td>(93.22379032258065, 7.004656974850931)</td>\n",
       "    </tr>\n",
       "    <tr>\n",
       "      <th>1</th>\n",
       "      <td>LOOCV</td>\n",
       "      <td>[1.0, 1.0, 0.0, 1.0, 1.0, 1.0, 1.0, 1.0, 1.0, ...</td>\n",
       "      <td>(92.98021697511167, 25.548012618838317)</td>\n",
       "    </tr>\n",
       "  </tbody>\n",
       "</table>\n",
       "</div>"
      ],
      "text/plain": [
       "   Model                             Cross Validation Score  \\\n",
       "0  KFold  [0.84375, 0.71875, 0.90625, 0.9375, 0.875, 0.7...   \n",
       "1  LOOCV  [1.0, 1.0, 0.0, 1.0, 1.0, 1.0, 1.0, 1.0, 1.0, ...   \n",
       "\n",
       "                                  Accuracy  \n",
       "0   (93.22379032258065, 7.004656974850931)  \n",
       "1  (92.98021697511167, 25.548012618838317)  "
      ]
     },
     "execution_count": 516,
     "metadata": {},
     "output_type": "execute_result"
    }
   ],
   "source": [
    "result_CV=pd.DataFrame({'Model':['KFold', 'LOOCV'],\n",
    "                        'Cross Validation Score' :[results_Kfold,results_LOOCV],\n",
    "                        'Accuracy' : [Accu_Kfold,Accu_LOOCV]\n",
    "                       })\n",
    "\n",
    "result_CV"
   ]
  },
  {
   "cell_type": "markdown",
   "metadata": {},
   "source": [
    "### - Apply hyper-parameter tuning techniques to get the best accuracy. Suggestion: Use all possible hyper parameter combinations to extract the best accuracies."
   ]
  },
  {
   "cell_type": "code",
   "execution_count": 518,
   "metadata": {},
   "outputs": [
    {
     "name": "stdout",
     "output_type": "stream",
     "text": [
      "LogisticRegression(penalty='l1', solver='saga')\n",
      "Best cross-validation accuracy: 0.92\n"
     ]
    }
   ],
   "source": [
    "c=np.logspace(0,4,num=10)\n",
    "penalty=['l1','l2']\n",
    "solver=['liblinear','saga']\n",
    "\n",
    "hyperparameter=dict(C=c,penalty=penalty,solver=solver)\n",
    "\n",
    "gs_model=LogisticRegression()\n",
    "gridsearch=GridSearchCV(gs_model,hyperparameter)\n",
    "\n",
    "best_model_grid=gridsearch.fit(X_train,y_train)\n",
    "GS_estimator1=best_model_grid.best_estimator_\n",
    "print(GS_estimator1)\n",
    "GS_CV_Score1=best_model_grid.best_score_\n",
    "print(\"Best cross-validation accuracy: {:.2f}\".format(GS_CV_Score1))"
   ]
  },
  {
   "cell_type": "code",
   "execution_count": 519,
   "metadata": {},
   "outputs": [
    {
     "name": "stdout",
     "output_type": "stream",
     "text": [
      "LogisticRegression(C=21.544346900318832, penalty='l1', solver='saga')\n",
      "Best cross-validation accuracy: 0.92\n"
     ]
    }
   ],
   "source": [
    "rs_model=LogisticRegression()\n",
    "randomsearch=RandomizedSearchCV(rs_model,hyperparameter)\n",
    "\n",
    "best_model_random=randomsearch.fit(X_train,y_train)\n",
    "RS_estimator2=best_model_random.best_estimator_\n",
    "print(RS_estimator2)\n",
    "RS_CV_Score2=best_model_grid.best_score_\n",
    "print(\"Best cross-validation accuracy: {:.2f}\".format(RS_CV_Score2))"
   ]
  },
  {
   "cell_type": "code",
   "execution_count": 520,
   "metadata": {},
   "outputs": [
    {
     "data": {
      "text/html": [
       "<div>\n",
       "<style scoped>\n",
       "    .dataframe tbody tr th:only-of-type {\n",
       "        vertical-align: middle;\n",
       "    }\n",
       "\n",
       "    .dataframe tbody tr th {\n",
       "        vertical-align: top;\n",
       "    }\n",
       "\n",
       "    .dataframe thead th {\n",
       "        text-align: right;\n",
       "    }\n",
       "</style>\n",
       "<table border=\"1\" class=\"dataframe\">\n",
       "  <thead>\n",
       "    <tr style=\"text-align: right;\">\n",
       "      <th></th>\n",
       "      <th>Model</th>\n",
       "      <th>Best estimator</th>\n",
       "      <th>Best Cross-validation Accuracy</th>\n",
       "    </tr>\n",
       "  </thead>\n",
       "  <tbody>\n",
       "    <tr>\n",
       "      <th>0</th>\n",
       "      <td>Grid Search</td>\n",
       "      <td>LogisticRegression(penalty='l1', solver='saga')</td>\n",
       "      <td>0.918796</td>\n",
       "    </tr>\n",
       "    <tr>\n",
       "      <th>1</th>\n",
       "      <td>Random Search</td>\n",
       "      <td>LogisticRegression(C=21.544346900318832, penal...</td>\n",
       "      <td>0.918796</td>\n",
       "    </tr>\n",
       "  </tbody>\n",
       "</table>\n",
       "</div>"
      ],
      "text/plain": [
       "           Model                                     Best estimator  \\\n",
       "0    Grid Search    LogisticRegression(penalty='l1', solver='saga')   \n",
       "1  Random Search  LogisticRegression(C=21.544346900318832, penal...   \n",
       "\n",
       "   Best Cross-validation Accuracy  \n",
       "0                        0.918796  \n",
       "1                        0.918796  "
      ]
     },
     "execution_count": 520,
     "metadata": {},
     "output_type": "execute_result"
    }
   ],
   "source": [
    "result_Hyper=pd.DataFrame({'Model':['Grid Search', 'Random Search'],\n",
    "                        'Best estimator' :[GS_estimator1,RS_estimator2],\n",
    "                        'Best Cross-validation Accuracy' : [GS_CV_Score1,RS_CV_Score2]\n",
    "                       })\n",
    "\n",
    "result_Hyper"
   ]
  },
  {
   "cell_type": "markdown",
   "metadata": {},
   "source": [
    "Conclusion:\n",
    "   1.Grid serach generates evenly spaced values for each hyperparameter being tested, and then uses cross validation to test the accuracy of each combination.\n",
    "    2.Random search generates random values for each hyperparameter being tested, and then uses cross validation to test the\n",
    "    accuracy of each combination.\n",
    "    3. Random search is better than grid search because it can take into account more unique values of each parameter. This is \n",
    "    important because some hyperparameters are more important than others.\n",
    "    4.Here, both are showing equal cross validation accuracy."
   ]
  },
  {
   "cell_type": "markdown",
   "metadata": {},
   "source": [
    "### - Use any other technique/method which can enhance the model performance. Hint: Dimensionality reduction, attribute removal, standardisation/normalisation, target balancing etc."
   ]
  },
  {
   "cell_type": "markdown",
   "metadata": {},
   "source": [
    "### - Display and explain the classification report in detail."
   ]
  },
  {
   "cell_type": "code",
   "execution_count": 522,
   "metadata": {},
   "outputs": [
    {
     "name": "stdout",
     "output_type": "stream",
     "text": [
      "0.916970802919708\n",
      "0.8195329087048833\n",
      "[[375  65]\n",
      " [ 20  11]]\n",
      "              precision    recall  f1-score   support\n",
      "\n",
      "          -1       0.95      0.85      0.90       440\n",
      "           1       0.14      0.35      0.21        31\n",
      "\n",
      "    accuracy                           0.82       471\n",
      "   macro avg       0.55      0.60      0.55       471\n",
      "weighted avg       0.90      0.82      0.85       471\n",
      "\n",
      "ROC-AUC Score=0.60\n"
     ]
    }
   ],
   "source": [
    "# fit model using oversampling method SMOTE\n",
    "modelLR_Samp_SMOT=LogisticRegression()\n",
    "modelLR_Samp_SMOT.fit(X_train_res,y_train_res)\n",
    "y_predict_Smot=modelLR_Samp_SMOT.predict(X_test)\n",
    "\n",
    "model_smote_scoreTrain=modelLR_Samp_SMOT.score(X_train,y_train)\n",
    "model_smote_scoreTest=modelLR_Samp_SMOT.score(X_test,y_test)\n",
    "print(model_smote_scoreTrain)\n",
    "print(model_smote_scoreTest)\n",
    "print(metrics.confusion_matrix(y_test, y_predict_Smot))\n",
    "print(metrics.classification_report(y_test, y_predict_Smot))\n",
    "\n",
    "LR_ROC_SMOTE=roc_auc_score(y_test,y_predict_Smot)\n",
    "print(\"ROC-AUC Score={:.2f}\".format(LR_ROC_SMOTE))"
   ]
  },
  {
   "cell_type": "code",
   "execution_count": 523,
   "metadata": {},
   "outputs": [
    {
     "name": "stdout",
     "output_type": "stream",
     "text": [
      "0.355 0.145 0.852 65 20\n"
     ]
    }
   ],
   "source": [
    "tn,fp,fn,tp=metrics.confusion_matrix(y_test,y_predict_Smot).ravel()\n",
    "lr_recallSMOTE=round(tp/(tp+fn),3)\n",
    "lr_precisionSMOTE=round(tp/(tp+fp),3)\n",
    "lr_specificitySMOTE=round(tn/(tn+fp),3)\n",
    "type1SMOTE=fp\n",
    "type2SMOTE=fn\n",
    "print(lr_recallSMOTE,lr_precisionSMOTE,lr_specificitySMOTE,type1SMOTE,type2SMOTE)"
   ]
  },
  {
   "cell_type": "code",
   "execution_count": 524,
   "metadata": {},
   "outputs": [
    {
     "name": "stdout",
     "output_type": "stream",
     "text": [
      "0.6487226277372263\n",
      "0.5902335456475584\n",
      "[[258 182]\n",
      " [ 11  20]]\n",
      "              precision    recall  f1-score   support\n",
      "\n",
      "          -1       0.96      0.59      0.73       440\n",
      "           1       0.10      0.65      0.17        31\n",
      "\n",
      "    accuracy                           0.59       471\n",
      "   macro avg       0.53      0.62      0.45       471\n",
      "weighted avg       0.90      0.59      0.69       471\n",
      "\n",
      "ROC-AUC Score=0.62\n"
     ]
    }
   ],
   "source": [
    "# fit model using undersampling method RandomUnderSampler\n",
    "modelLR_Samp_Random=LogisticRegression()\n",
    "modelLR_Samp_Random.fit(X_train_rusUn,y_train_rusUn)\n",
    "y_predict_Random=modelLR_Samp_Random.predict(X_test)\n",
    "\n",
    "model_random_scoreTrain=modelLR_Samp_Random.score(X_train,y_train)\n",
    "model_random_scoreTest=modelLR_Samp_Random.score(X_test,y_test)\n",
    "print(model_random_scoreTrain)\n",
    "print(model_random_scoreTest)\n",
    "print(metrics.confusion_matrix(y_test, y_predict_Random))\n",
    "print(metrics.classification_report(y_test, y_predict_Random))\n",
    "\n",
    "LR_ROC_Random=roc_auc_score(y_test,y_predict_Random)\n",
    "print(\"ROC-AUC Score={:.2f}\".format(LR_ROC_Random))"
   ]
  },
  {
   "cell_type": "code",
   "execution_count": 525,
   "metadata": {},
   "outputs": [
    {
     "name": "stdout",
     "output_type": "stream",
     "text": [
      "0.645 0.099 0.586 182 11\n"
     ]
    }
   ],
   "source": [
    "tn,fp,fn,tp=metrics.confusion_matrix(y_test,y_predict_Random).ravel()\n",
    "lr_recallRandom=round(tp/(tp+fn),3)\n",
    "lr_precisionRandom=round(tp/(tp+fp),3)\n",
    "lr_specificityRandom=round(tn/(tn+fp),3)\n",
    "type1Random=fp\n",
    "type2Random=fn\n",
    "print(lr_recallRandom,lr_precisionRandom,lr_specificityRandom,type1Random,type2Random)"
   ]
  },
  {
   "cell_type": "code",
   "execution_count": 527,
   "metadata": {},
   "outputs": [
    {
     "name": "stdout",
     "output_type": "stream",
     "text": [
      "0.958941605839416\n",
      "0.9129511677282378\n",
      "[[422  18]\n",
      " [ 23   8]]\n",
      "              precision    recall  f1-score   support\n",
      "\n",
      "          -1       0.95      0.96      0.95       440\n",
      "           1       0.31      0.26      0.28        31\n",
      "\n",
      "    accuracy                           0.91       471\n",
      "   macro avg       0.63      0.61      0.62       471\n",
      "weighted avg       0.91      0.91      0.91       471\n",
      "\n",
      "ROC-AUC Score=0.61\n"
     ]
    }
   ],
   "source": [
    "# scaling the data using the standard scaler\n",
    "\n",
    "from sklearn.preprocessing import StandardScaler\n",
    "\n",
    "X_train_sd=StandardScaler().fit_transform(X_train)\n",
    "X_test_sd=StandardScaler().fit_transform(X_test)\n",
    "\n",
    "modelLR_Hyper_Standard=LogisticRegression()\n",
    "modelLR_Hyper_Standard.fit(X_train_sd,y_train)\n",
    "y_predict_Hyper_Standard=modelLR_Hyper_Standard.predict(X_test_sd)\n",
    "\n",
    "modelLR_score_StandardTrain=modelLR_Hyper_Standard.score(X_train_sd,y_train)\n",
    "modelLR_score_StandardTest=modelLR_Hyper_Standard.score(X_test_sd,y_test)\n",
    "print(modelLR_score_StandardTrain)\n",
    "print(modelLR_score_StandardTest)\n",
    "\n",
    "print(metrics.confusion_matrix(y_test,y_predict_Hyper_Standard))\n",
    "print(metrics.classification_report(y_test, y_predict_Hyper_Standard))\n",
    "\n",
    "LR_ROC_Standard=roc_auc_score(y_test,y_predict_Hyper_Standard)\n",
    "print(\"ROC-AUC Score={:.2f}\".format(LR_ROC_Standard))"
   ]
  },
  {
   "cell_type": "code",
   "execution_count": 528,
   "metadata": {},
   "outputs": [
    {
     "name": "stdout",
     "output_type": "stream",
     "text": [
      "0.258 0.308 0.959 18 23\n"
     ]
    }
   ],
   "source": [
    "tn,fp,fn,tp=metrics.confusion_matrix(y_test, y_predict_Hyper_Standard).ravel()\n",
    "lr_recallStandard=round(tp/(tp+fn),3)\n",
    "lr_precisionStandard=round(tp/(tp+fp),3)\n",
    "lr_specificityStandard=round(tn/(tn+fp),3)\n",
    "type1Standard=fp\n",
    "type2Standard=fn\n",
    "print(lr_recallStandard,lr_precisionStandard,lr_specificityStandard,type1Standard,type2Standard)"
   ]
  },
  {
   "cell_type": "code",
   "execution_count": 529,
   "metadata": {},
   "outputs": [
    {
     "name": "stdout",
     "output_type": "stream",
     "text": [
      "0.9361313868613139\n",
      "0.9341825902335457\n",
      "[[440   0]\n",
      " [ 31   0]]\n",
      "              precision    recall  f1-score   support\n",
      "\n",
      "          -1       0.93      1.00      0.97       440\n",
      "           1       0.00      0.00      0.00        31\n",
      "\n",
      "    accuracy                           0.93       471\n",
      "   macro avg       0.47      0.50      0.48       471\n",
      "weighted avg       0.87      0.93      0.90       471\n",
      "\n",
      "ROC-AUC Score=0.50\n"
     ]
    }
   ],
   "source": [
    "from sklearn.preprocessing import MinMaxScaler\n",
    "scaler=MinMaxScaler().fit(X_train)\n",
    "X_train_MinMax=scaler.transform(X_train)\n",
    "X_test_MinMax=scaler.transform(X_test)\n",
    "\n",
    "modelLR_Hyper_MinMax=LogisticRegression()\n",
    "modelLR_Hyper_MinMax.fit(X_train_MinMax,y_train)\n",
    "y_predict_Hyper_MinMax=modelLR_Hyper_MinMax.predict(X_test_MinMax)\n",
    "\n",
    "modelLR_score_Hyper_MinMaxTrain = modelLR_Hyper_MinMax.score(X_train_MinMax, y_train)\n",
    "modelLR_score_Hyper_MinMaxTest = modelLR_Hyper_MinMax.score(X_test_MinMax, y_test)\n",
    "print(modelLR_score_Hyper_MinMaxTrain)\n",
    "print(modelLR_score_Hyper_MinMaxTest)\n",
    "print(metrics.confusion_matrix(y_test, y_predict_Hyper_MinMax))\n",
    "print(metrics.classification_report(y_test, y_predict_Hyper_MinMax))\n",
    "\n",
    "LR_ROC_MinMax=roc_auc_score(y_test,y_predict_Hyper_MinMax)\n",
    "print(\"ROC-AUC Score={:.2f}\".format(LR_ROC_MinMax))"
   ]
  },
  {
   "cell_type": "code",
   "execution_count": 530,
   "metadata": {},
   "outputs": [
    {
     "name": "stdout",
     "output_type": "stream",
     "text": [
      "0.0 nan 1.0 0 31\n"
     ]
    }
   ],
   "source": [
    "tn,fp,fn,tp=metrics.confusion_matrix(y_test,y_predict_Hyper_MinMax).ravel()\n",
    "lr_recallMinMax=round(tp/(tp+fn),3)\n",
    "lr_precisionMinMax=round(tp/(tp+fp),3)\n",
    "lr_specificityMinMax=round(tn/(tn+fp),3)\n",
    "type1MinMax=fp\n",
    "type2MinMax=fn\n",
    "print(lr_recallMinMax,lr_precisionMinMax,lr_specificityMinMax,type1MinMax,type2MinMax)"
   ]
  },
  {
   "cell_type": "code",
   "execution_count": 531,
   "metadata": {},
   "outputs": [
    {
     "data": {
      "text/html": [
       "<div>\n",
       "<style scoped>\n",
       "    .dataframe tbody tr th:only-of-type {\n",
       "        vertical-align: middle;\n",
       "    }\n",
       "\n",
       "    .dataframe tbody tr th {\n",
       "        vertical-align: top;\n",
       "    }\n",
       "\n",
       "    .dataframe thead th {\n",
       "        text-align: right;\n",
       "    }\n",
       "</style>\n",
       "<table border=\"1\" class=\"dataframe\">\n",
       "  <thead>\n",
       "    <tr style=\"text-align: right;\">\n",
       "      <th></th>\n",
       "      <th>Model</th>\n",
       "      <th>Training Score</th>\n",
       "      <th>Testing Score</th>\n",
       "      <th>Recall</th>\n",
       "      <th>Precsion</th>\n",
       "      <th>Specificity</th>\n",
       "      <th>Type-1</th>\n",
       "      <th>Type-2</th>\n",
       "    </tr>\n",
       "  </thead>\n",
       "  <tbody>\n",
       "    <tr>\n",
       "      <th>0</th>\n",
       "      <td>LR before sampling</td>\n",
       "      <td>0.958942</td>\n",
       "      <td>0.919321</td>\n",
       "      <td>0.226</td>\n",
       "      <td>0.333</td>\n",
       "      <td>0.968</td>\n",
       "      <td>14</td>\n",
       "      <td>24</td>\n",
       "    </tr>\n",
       "    <tr>\n",
       "      <th>1</th>\n",
       "      <td>LR with SMOTE(OverSampling)</td>\n",
       "      <td>0.916971</td>\n",
       "      <td>0.819533</td>\n",
       "      <td>0.355</td>\n",
       "      <td>0.145</td>\n",
       "      <td>0.852</td>\n",
       "      <td>65</td>\n",
       "      <td>20</td>\n",
       "    </tr>\n",
       "    <tr>\n",
       "      <th>2</th>\n",
       "      <td>LR with RandomUnderSampler</td>\n",
       "      <td>0.648723</td>\n",
       "      <td>0.590234</td>\n",
       "      <td>0.645</td>\n",
       "      <td>0.099</td>\n",
       "      <td>0.586</td>\n",
       "      <td>182</td>\n",
       "      <td>11</td>\n",
       "    </tr>\n",
       "    <tr>\n",
       "      <th>3</th>\n",
       "      <td>LR with StandardScaler</td>\n",
       "      <td>0.958942</td>\n",
       "      <td>0.912951</td>\n",
       "      <td>0.258</td>\n",
       "      <td>0.308</td>\n",
       "      <td>0.959</td>\n",
       "      <td>18</td>\n",
       "      <td>23</td>\n",
       "    </tr>\n",
       "    <tr>\n",
       "      <th>4</th>\n",
       "      <td>LR with MinMaxScaler</td>\n",
       "      <td>0.936131</td>\n",
       "      <td>0.934183</td>\n",
       "      <td>0.000</td>\n",
       "      <td>NaN</td>\n",
       "      <td>1.000</td>\n",
       "      <td>0</td>\n",
       "      <td>31</td>\n",
       "    </tr>\n",
       "  </tbody>\n",
       "</table>\n",
       "</div>"
      ],
      "text/plain": [
       "                         Model  Training Score  Testing Score  Recall  \\\n",
       "0           LR before sampling        0.958942       0.919321   0.226   \n",
       "1  LR with SMOTE(OverSampling)        0.916971       0.819533   0.355   \n",
       "2   LR with RandomUnderSampler        0.648723       0.590234   0.645   \n",
       "3       LR with StandardScaler        0.958942       0.912951   0.258   \n",
       "4         LR with MinMaxScaler        0.936131       0.934183   0.000   \n",
       "\n",
       "   Precsion  Specificity  Type-1  Type-2  \n",
       "0     0.333        0.968      14      24  \n",
       "1     0.145        0.852      65      20  \n",
       "2     0.099        0.586     182      11  \n",
       "3     0.308        0.959      18      23  \n",
       "4       NaN        1.000       0      31  "
      ]
     },
     "execution_count": 531,
     "metadata": {},
     "output_type": "execute_result"
    }
   ],
   "source": [
    "result_Enhancement=pd.DataFrame({'Model':['LR before sampling', 'LR with SMOTE(OverSampling)', 'LR with RandomUnderSampler', 'LR with StandardScaler','LR with MinMaxScaler'],\n",
    "                                 'Training Score':[model_score_BSampTrain,model_smote_scoreTrain,model_random_scoreTrain,modelLR_score_StandardTrain,modelLR_score_Hyper_MinMaxTrain],\n",
    "                                 'Testing Score':[model_score_BSampTest,model_smote_scoreTest,model_random_scoreTest,modelLR_score_StandardTest,modelLR_score_Hyper_MinMaxTest],\n",
    "                                 'Recall':[lrB_recall1,lr_recallSMOTE,lr_recallRandom,lr_recallStandard,lr_recallMinMax],\n",
    "                                 'Precsion':[lrB_precision1,lr_precisionSMOTE,lr_precisionRandom,lr_precisionStandard,lr_precisionMinMax],\n",
    "                                 'Specificity':[lrB_specificity1,lr_specificitySMOTE,lr_specificityRandom,lr_specificityStandard,lr_specificityMinMax],\n",
    "                                 'Type-1':[type1B_error1,type1SMOTE,type1Random,type1Standard,type1MinMax],\n",
    "                                 'Type-2':[type2B_error2,type2SMOTE,type2Random,type2Standard,type2MinMax]})\n",
    "\n",
    "result_Enhancement"
   ]
  },
  {
   "cell_type": "markdown",
   "metadata": {},
   "source": [
    "### Dimension Reduction technique -PCA"
   ]
  },
  {
   "cell_type": "code",
   "execution_count": 533,
   "metadata": {},
   "outputs": [
    {
     "data": {
      "text/plain": [
       "((1096, 10), (471, 10))"
      ]
     },
     "execution_count": 533,
     "metadata": {},
     "output_type": "execute_result"
    }
   ],
   "source": [
    "from sklearn.decomposition import PCA\n",
    "pca=PCA(10)\n",
    "pca.fit(X_train)\n",
    "X_train_pca=pca.transform(X_train)\n",
    "X_test_pca=pca.transform(X_test)\n",
    "\n",
    "X_train_pca.shape, X_test_pca.shape"
   ]
  },
  {
   "cell_type": "code",
   "execution_count": 534,
   "metadata": {},
   "outputs": [
    {
     "data": {
      "text/plain": [
       "array([5.69945757, 3.30687637, 2.79176289, 2.65034361, 2.41496396,\n",
       "       2.36368415, 2.27005966, 2.17416587, 2.14506262, 2.07395558])"
      ]
     },
     "execution_count": 534,
     "metadata": {},
     "output_type": "execute_result"
    }
   ],
   "source": [
    "pca.explained_variance_"
   ]
  },
  {
   "cell_type": "code",
   "execution_count": 535,
   "metadata": {},
   "outputs": [
    {
     "name": "stdout",
     "output_type": "stream",
     "text": [
      "0.9343065693430657\n",
      "0.9341825902335457\n",
      "ROC-AUC Score=0.50\n"
     ]
    }
   ],
   "source": [
    "lr=LogisticRegression()\n",
    "lr.fit(X_train_pca,y_train)\n",
    "pca_train_score=lr.score(X_train_pca,y_train)\n",
    "pca_test_score=lr.score(X_test_pca,y_test)\n",
    "print(pca_train_score)\n",
    "print(pca_test_score)\n",
    "#y_pred = pipe_lr.predict(X_test)\n",
    "y_pred_pca=lr.predict(X_test_pca)\n",
    "LR_ROC_PCA=roc_auc_score(y_test,y_pred_pca)\n",
    "print(\"ROC-AUC Score={:.2f}\".format(LR_ROC_PCA))"
   ]
  },
  {
   "cell_type": "markdown",
   "metadata": {},
   "source": [
    "### - Design a method of your own to check if the achieved train and test accuracies might change if a different sample population can lead tonew train and test accuracies.\n",
    "Hint: You can use your concepts learnt under Applied Statistics module."
   ]
  },
  {
   "cell_type": "code",
   "execution_count": 536,
   "metadata": {},
   "outputs": [
    {
     "name": "stdout",
     "output_type": "stream",
     "text": [
      "Train accuracy: 0.933\n",
      "Test Accuracy: 0.934\n",
      "              precision    recall  f1-score   support\n",
      "\n",
      "          -1       0.93      1.00      0.97       440\n",
      "           1       0.00      0.00      0.00        31\n",
      "\n",
      "    accuracy                           0.93       471\n",
      "   macro avg       0.47      0.50      0.48       471\n",
      "weighted avg       0.87      0.93      0.90       471\n",
      "\n",
      "ROC-AUC Score=0.50\n"
     ]
    }
   ],
   "source": [
    "#PCA - to reduce dimensions\n",
    "from sklearn.preprocessing import StandardScaler\n",
    "from sklearn.decomposition import PCA\n",
    "from sklearn.linear_model import LogisticRegression\n",
    "from sklearn.pipeline import Pipeline\n",
    "\n",
    "pipe_lr=Pipeline([('scl',StandardScaler()), ('pca',PCA(n_components=3)),('clf',LogisticRegression(random_state=1))])\n",
    "pipe_lr.fit(X_train,y_train)\n",
    "pipe_LR_PCATrain=pipe_lr.score(X_train,y_train)\n",
    "pipe_LR_PCATest=pipe_lr.score(X_test,y_test)\n",
    "print(\"Train accuracy: %.3f\" %pipe_LR_PCATrain)\n",
    "print('Test Accuracy: %.3f' %pipe_LR_PCATest )\n",
    "\n",
    "y_pred = pipe_lr.predict(X_test)\n",
    "print(metrics.classification_report(y_test, y_pred))\n",
    "\n",
    "LR_ROC_pipelinePCA=roc_auc_score(y_test,y_pred)\n",
    "print(\"ROC-AUC Score={:.2f}\".format(LR_ROC_pipelinePCA))"
   ]
  },
  {
   "cell_type": "code",
   "execution_count": 537,
   "metadata": {},
   "outputs": [
    {
     "name": "stdout",
     "output_type": "stream",
     "text": [
      "0.0 nan 1.0 0 31\n"
     ]
    }
   ],
   "source": [
    "tn,fp,fn,tp=metrics.confusion_matrix(y_test,y_pred).ravel()\n",
    "lr_recallPCA=round(tp/(tp+fn),3)\n",
    "lr_precisionPCA=round(tp/(tp+fp),3)\n",
    "lr_specificityPCA=round(tn/(tn+fp),3)\n",
    "type1PCA=fp\n",
    "type2PCA=fn\n",
    "print(lr_recallPCA,lr_precisionPCA,lr_specificityPCA,type1PCA,type2PCA)\n"
   ]
  },
  {
   "cell_type": "markdown",
   "metadata": {},
   "source": [
    "### - Apply the above steps for all possible models that you have learnt so far."
   ]
  },
  {
   "cell_type": "code",
   "execution_count": 538,
   "metadata": {},
   "outputs": [
    {
     "name": "stdout",
     "output_type": "stream",
     "text": [
      "0.6322992700729927\n",
      "0.6560509554140127\n",
      "Classification Report\n",
      "               precision    recall  f1-score   support\n",
      "\n",
      "          -1       0.98      0.64      0.78       440\n",
      "           1       0.14      0.84      0.24        31\n",
      "\n",
      "    accuracy                           0.66       471\n",
      "   macro avg       0.56      0.74      0.51       471\n",
      "weighted avg       0.93      0.66      0.74       471\n",
      "\n",
      "ROC-AUC Score=0.74\n"
     ]
    }
   ],
   "source": [
    "#Neive Byes Method\n",
    "from sklearn.naive_bayes import GaussianNB\n",
    "\n",
    "nb1=GaussianNB()\n",
    "nb1.fit(X_train,y_train)\n",
    "y_predNB1=nb1.predict(X_test)\n",
    "NB1_score=nb1.score(X_train,y_train)\n",
    "print(NB1_score)\n",
    "NB11_score=nb1.score(X_test,y_test)\n",
    "print(NB11_score)\n",
    "print(\"Classification Report\\n\",classification_report(y_test,y_predNB1))\n",
    "\n",
    "NB_ROC=roc_auc_score(y_test,y_predNB1)\n",
    "print(\"ROC-AUC Score={:.2f}\".format(NB_ROC))\n",
    "\n",
    "#print(\"Confusion Matrix:\\n\",metrics.confusion_matrix(y_test,y_predNB1,labels=[1,0]))"
   ]
  },
  {
   "cell_type": "code",
   "execution_count": 539,
   "metadata": {},
   "outputs": [
    {
     "name": "stdout",
     "output_type": "stream",
     "text": [
      "0.6322992700729927\n",
      "0.8747346072186837\n",
      "Classification Report\n",
      "               precision    recall  f1-score   support\n",
      "\n",
      "          -1       0.94      0.92      0.93       440\n",
      "           1       0.17      0.23      0.19        31\n",
      "\n",
      "    accuracy                           0.87       471\n",
      "   macro avg       0.56      0.57      0.56       471\n",
      "weighted avg       0.89      0.87      0.88       471\n",
      "\n",
      "ROC-AUC Score=0.57\n",
      "\n"
     ]
    }
   ],
   "source": [
    "#Neive Byes Method wth standardscaler\n",
    "from sklearn.naive_bayes import GaussianNB\n",
    "\n",
    "nb1=GaussianNB()\n",
    "nb1.fit(X_train_sd,y_train)\n",
    "y_predNB2=nb1.predict(X_test_sd)\n",
    "NB2_score=nb1.score(X_train_sd,y_train)\n",
    "print(NB2_score)\n",
    "NB22_score=nb2.score(X_test_sd,y_test)\n",
    "print(NB22_score)\n",
    "print(\"Classification Report\\n\",classification_report(y_test,y_predNB2))\n",
    "ROC22=roc_auc_score(y_test,y_predNB2)\n",
    "print(\"ROC-AUC Score={:.2f}\".format(ROC22))\n",
    "print(\"\")"
   ]
  },
  {
   "cell_type": "code",
   "execution_count": 540,
   "metadata": {},
   "outputs": [
    {
     "name": "stdout",
     "output_type": "stream",
     "text": [
      "0.7727272727272727\n",
      "0.6602972399150743\n",
      "Classification Report\n",
      "               precision    recall  f1-score   support\n",
      "\n",
      "          -1       0.95      0.64      0.76       440\n",
      "           1       0.10      0.55      0.16        31\n",
      "\n",
      "    accuracy                           0.63       471\n",
      "   macro avg       0.52      0.59      0.46       471\n",
      "weighted avg       0.90      0.63      0.73       471\n",
      "\n",
      "ROC-AUC Score=0.59\n",
      "\n"
     ]
    }
   ],
   "source": [
    "#Neive Byes Method wth SMOTE\n",
    "from sklearn.naive_bayes import GaussianNB\n",
    "\n",
    "nb1_smote=GaussianNB()\n",
    "nb1_smote.fit(X_train_res,y_train_res)\n",
    "y_predNB_smote=nb1_smote.predict(X_test)\n",
    "NB2_score_smoteTrain=nb1_smote.score(X_train_res,y_train_res)\n",
    "print(NB2_score_smoteTrain)\n",
    "NB22_score_smoteTest=nb2.score(X_test,y_test)\n",
    "print(NB22_score_smoteTest)\n",
    "print(\"Classification Report\\n\",classification_report(y_test,y_predNB_smote))\n",
    "ROC_nb_smote=roc_auc_score(y_test,y_predNB_smote)\n",
    "print(\"ROC-AUC Score={:.2f}\".format(ROC_nb_smote))\n",
    "print(\"\")"
   ]
  },
  {
   "cell_type": "code",
   "execution_count": 541,
   "metadata": {},
   "outputs": [
    {
     "name": "stdout",
     "output_type": "stream",
     "text": [
      "Accuracy on training set = 0.94\n",
      "Accuracy on testing set = 0.92\n",
      "Classification Report\n",
      "               precision    recall  f1-score   support\n",
      "\n",
      "          -1       0.94      0.98      0.96       440\n",
      "           1       0.22      0.06      0.10        31\n",
      "\n",
      "    accuracy                           0.92       471\n",
      "   macro avg       0.58      0.52      0.53       471\n",
      "weighted avg       0.89      0.92      0.90       471\n",
      "\n",
      "ROC-AUC Score=0.52\n",
      "\n",
      "[[433   7]\n",
      " [ 29   2]]\n"
     ]
    }
   ],
   "source": [
    "from sklearn.neighbors import KNeighborsClassifier\n",
    "from sklearn.metrics import accuracy_score\n",
    "\n",
    "knn1=KNeighborsClassifier(n_neighbors=3)\n",
    "knn1.fit(X_train,y_train)\n",
    "y_pred_knn1=knn.predict(X_test)\n",
    "\n",
    "model_score_KNNTrain = knn1.score(X_train, y_train)\n",
    "print(\"Accuracy on training set = {:.2f}\".format(model_score_KNNTrain))\n",
    "\n",
    "model_score_KNNTest= knn1.score(X_test, y_test)\n",
    "print(\"Accuracy on testing set = {:.2f}\".format(model_score_KNNTest))\n",
    "\n",
    "print(\"Classification Report\\n\",classification_report(y_test,y_pred_knn1))\n",
    "ROC_knn1=roc_auc_score(y_test,y_pred_knn1)\n",
    "print(\"ROC-AUC Score={:.2f}\".format(ROC_knn1))\n",
    "print(\"\")\n",
    "print(metrics.confusion_matrix(y_test,y_pred_knn1))"
   ]
  },
  {
   "cell_type": "code",
   "execution_count": 542,
   "metadata": {},
   "outputs": [
    {
     "name": "stdout",
     "output_type": "stream",
     "text": [
      "Accuracy on training set = 0.94\n",
      "Accuracy on testing set = 0.93\n",
      "Classification Report\n",
      "               precision    recall  f1-score   support\n",
      "\n",
      "          -1       0.94      0.98      0.96       440\n",
      "           1       0.22      0.06      0.10        31\n",
      "\n",
      "    accuracy                           0.92       471\n",
      "   macro avg       0.58      0.52      0.53       471\n",
      "weighted avg       0.89      0.92      0.90       471\n",
      "\n",
      "ROC-AUC Score=0.52\n",
      "\n",
      "[[433   7]\n",
      " [ 29   2]]\n"
     ]
    }
   ],
   "source": [
    "#KNN with standardScaler\n",
    "from sklearn.neighbors import KNeighborsClassifier\n",
    "from sklearn.metrics import accuracy_score\n",
    "\n",
    "knn_std=KNeighborsClassifier(n_neighbors=3)\n",
    "knn_std.fit(X_train_sd,y_train)\n",
    "y_pred_knn_std=knn_std.predict(X_test)\n",
    "\n",
    "KNNscore_StdTrain = knn_std.score(X_train_sd, y_train)\n",
    "print(\"Accuracy on training set = {:.2f}\".format(KNNscore_StdTrain))\n",
    "\n",
    "KNNscore_StdTest= knn_std.score(X_test_sd, y_test)\n",
    "print(\"Accuracy on testing set = {:.2f}\".format(KNNscore_StdTest))\n",
    "\n",
    "print(\"Classification Report\\n\",classification_report(y_test,y_pred_knn_std))\n",
    "ROC_KNN_std=roc_auc_score(y_test,y_pred_knn_std)\n",
    "print(\"ROC-AUC Score={:.2f}\".format(ROC_KNN_std))\n",
    "print(\"\")\n",
    "print(metrics.confusion_matrix(y_test,y_pred_knn_std))"
   ]
  },
  {
   "cell_type": "code",
   "execution_count": 543,
   "metadata": {},
   "outputs": [
    {
     "name": "stdout",
     "output_type": "stream",
     "text": [
      "Accuracy on training set = 0.83\n",
      "Accuracy on testing set = 0.92\n",
      "Classification Report\n",
      "               precision    recall  f1-score   support\n",
      "\n",
      "          -1       0.96      0.23      0.37       440\n",
      "           1       0.07      0.87      0.14        31\n",
      "\n",
      "    accuracy                           0.27       471\n",
      "   macro avg       0.52      0.55      0.25       471\n",
      "weighted avg       0.90      0.27      0.36       471\n",
      "\n",
      "ROC-AUC Score=0.55\n",
      "\n"
     ]
    }
   ],
   "source": [
    "#KNN with SMOTE\n",
    "from sklearn.neighbors import KNeighborsClassifier\n",
    "from sklearn.metrics import accuracy_score\n",
    "\n",
    "knn_smote=KNeighborsClassifier(n_neighbors=3)\n",
    "knn_smote.fit(X_train_res,y_train_res)\n",
    "y_pred_knn_smote=knn_smote.predict(X_test)\n",
    "\n",
    "KNN_smote_Train = knn.score(X_train_res, y_train_res)\n",
    "print(\"Accuracy on training set = {:.2f}\".format(KNN_smote_Train))\n",
    "\n",
    "KNN_smote_Test= knn.score(X_test, y_test)\n",
    "print(\"Accuracy on testing set = {:.2f}\".format(KNN_smote_Test))\n",
    "\n",
    "print(\"Classification Report\\n\",classification_report(y_test,y_pred_knn_smote))\n",
    "ROC_KNN_smote=roc_auc_score(y_test,y_pred_knn_smote)\n",
    "print(\"ROC-AUC Score={:.2f}\".format(ROC_KNN_smote))\n",
    "print(\"\")"
   ]
  },
  {
   "cell_type": "code",
   "execution_count": 544,
   "metadata": {},
   "outputs": [
    {
     "name": "stdout",
     "output_type": "stream",
     "text": [
      "Accuracy on training set=1.00\n",
      "Accuracy on training set=0.93\n",
      "Classification Report\n",
      "               precision    recall  f1-score   support\n",
      "\n",
      "          -1       0.94      1.00      0.96       440\n",
      "           1       0.33      0.03      0.06        31\n",
      "\n",
      "    accuracy                           0.93       471\n",
      "   macro avg       0.63      0.51      0.51       471\n",
      "weighted avg       0.90      0.93      0.91       471\n",
      "\n",
      "ROC-AUC Score=0.51\n",
      "\n"
     ]
    }
   ],
   "source": [
    "from sklearn.svm import SVC\n",
    "\n",
    "svc=SVC(C=1000)\n",
    "svc.fit(X_train,y_train)\n",
    "y_pred_SVC=svc.predict(X_test)\n",
    "\n",
    "model_score_SVCTrain=svc.score(X_train,y_train)\n",
    "print(\"Accuracy on training set={:.2f}\".format(model_score_SVCTrain))\n",
    "\n",
    "model_score_SVCTest=svc.score(X_test,y_test)\n",
    "print(\"Accuracy on training set={:.2f}\".format(model_score_SVCTest))\n",
    "\n",
    "print(\"Classification Report\\n\",classification_report(y_test,y_pred_SVC))\n",
    "ROC_svc=roc_auc_score(y_test,y_pred_SVC)\n",
    "print(\"ROC-AUC Score={:.2f}\".format(ROC_svc))\n",
    "print(\"\")"
   ]
  },
  {
   "cell_type": "code",
   "execution_count": 545,
   "metadata": {},
   "outputs": [
    {
     "name": "stdout",
     "output_type": "stream",
     "text": [
      "Accuracy on training set=1.00\n",
      "Accuracy on training set=0.93\n",
      "Classification Report\n",
      "               precision    recall  f1-score   support\n",
      "\n",
      "          -1       0.94      1.00      0.97       440\n",
      "           1       0.50      0.03      0.06        31\n",
      "\n",
      "    accuracy                           0.93       471\n",
      "   macro avg       0.72      0.51      0.51       471\n",
      "weighted avg       0.91      0.93      0.91       471\n",
      "\n",
      "ROC-AUC Score=0.51\n",
      "\n"
     ]
    }
   ],
   "source": [
    "#SVC with standardScaler\n",
    "from sklearn.svm import SVC\n",
    "\n",
    "svcstd=SVC(C=1000)\n",
    "svcstd.fit(X_train_sd,y_train)\n",
    "ypredSVC_std=svcstd.predict(X_test_sd)\n",
    "\n",
    "SVCTrain_std=svc_std.score(X_train_sd,y_train)\n",
    "print(\"Accuracy on training set={:.2f}\".format(SVCTrain_std))\n",
    "\n",
    "SVCTest_std=svc.score(X_test_sd,y_test)\n",
    "print(\"Accuracy on training set={:.2f}\".format(SVCTest_std))\n",
    "\n",
    "print(\"Classification Report\\n\",classification_report(y_test,ypredSVC_std))\n",
    "ROC_svc_std=roc_auc_score(y_test,ypredSVC_std)\n",
    "print(\"ROC-AUC Score={:.2f}\".format(ROC_svc_std))\n",
    "print(\"\")"
   ]
  },
  {
   "cell_type": "code",
   "execution_count": 546,
   "metadata": {},
   "outputs": [
    {
     "name": "stdout",
     "output_type": "stream",
     "text": [
      "Accuracy on training set=1.00\n",
      "Accuracy on training set=0.93\n",
      "Classification Report\n",
      "               precision    recall  f1-score   support\n",
      "\n",
      "          -1       0.93      1.00      0.96       440\n",
      "           1       0.00      0.00      0.00        31\n",
      "\n",
      "    accuracy                           0.93       471\n",
      "   macro avg       0.47      0.50      0.48       471\n",
      "weighted avg       0.87      0.93      0.90       471\n",
      "\n",
      "ROC-AUC Score=0.50\n",
      "\n"
     ]
    }
   ],
   "source": [
    "from sklearn.svm import SVC\n",
    "\n",
    "svc_smote=SVC(C=1000)\n",
    "svc_smote.fit(X_train_res,y_train_res)\n",
    "y_pred_SVC_smote=svc_smote.predict(X_test)\n",
    "\n",
    "SVCTrain_smote=svc_smote.score(X_train_res,y_train_res)\n",
    "print(\"Accuracy on training set={:.2f}\".format(SVCTrain_smote))\n",
    "\n",
    "SVCTest_smote=svc.score(X_test,y_test)\n",
    "print(\"Accuracy on training set={:.2f}\".format(SVCTest_smote))\n",
    "\n",
    "print(\"Classification Report\\n\",classification_report(y_test,y_pred_SVC_smote))\n",
    "ROC_svc_smote=roc_auc_score(y_test,y_pred_SVC_smote)\n",
    "print(\"ROC-AUC Score={:.2f}\".format(ROC_svc_smote))\n",
    "print(\"\")"
   ]
  },
  {
   "cell_type": "code",
   "execution_count": 547,
   "metadata": {},
   "outputs": [
    {
     "name": "stdout",
     "output_type": "stream",
     "text": [
      " Train Score : 0.9817518248175182\n",
      " Test Score : 0.9299363057324841\n",
      "[[435   5]\n",
      " [ 30   1]]\n",
      "              precision    recall  f1-score   support\n",
      "\n",
      "          -1       0.94      0.99      0.96       440\n",
      "           1       0.17      0.03      0.05        31\n",
      "\n",
      "    accuracy                           0.93       471\n",
      "   macro avg       0.55      0.51      0.51       471\n",
      "weighted avg       0.88      0.93      0.90       471\n",
      "\n",
      "ROC-AUC Score=0.51\n"
     ]
    }
   ],
   "source": [
    "#AdaBoostClassifier with standardscaler\n",
    "from sklearn.ensemble import AdaBoostClassifier\n",
    "ac_std=AdaBoostClassifier()\n",
    "ac_std.fit(X_train_sd,y_train)\n",
    "\n",
    "ABC_scoreTrain_std=ac_std.score(X_train_sd,y_train)\n",
    "print(f\" Train Score : {ABC_scoreTrain}\")\n",
    "ABC_scoreTest_std=ac.score(X_test_sd,y_test)\n",
    "print(f\" Test Score : {ABC_scoreTest}\")\n",
    "\n",
    "y_predictABC_std=ac_std.predict(X_test_sd)\n",
    "\n",
    "confu_mat_abc_std=metrics.confusion_matrix(y_test,y_predictABC_std)\n",
    "print(confu_mat_abc_std)\n",
    "print(metrics.classification_report(y_test,y_predictABC_std)) \n",
    "\n",
    "ABC_ROC=roc_auc_score(y_test,y_predictABC_std)\n",
    "print(\"ROC-AUC Score={:.2f}\".format(ABC_ROC))"
   ]
  },
  {
   "cell_type": "code",
   "execution_count": 548,
   "metadata": {},
   "outputs": [
    {
     "name": "stdout",
     "output_type": "stream",
     "text": [
      " Train Score : 0.9760508308895406\n",
      " Test Score : 0.9299363057324841\n",
      "[[433   7]\n",
      " [ 29   2]]\n",
      "              precision    recall  f1-score   support\n",
      "\n",
      "          -1       0.94      0.98      0.96       440\n",
      "           1       0.22      0.06      0.10        31\n",
      "\n",
      "    accuracy                           0.92       471\n",
      "   macro avg       0.58      0.52      0.53       471\n",
      "weighted avg       0.89      0.92      0.90       471\n",
      "\n",
      "ROC-AUC Score=0.52\n"
     ]
    }
   ],
   "source": [
    "#AdaBoostClassifier with SMOTE sampling\n",
    "\n",
    "from sklearn.ensemble import AdaBoostClassifier\n",
    "ac_smote=AdaBoostClassifier()\n",
    "ac_smote.fit(X_train_res,y_train_res)\n",
    "\n",
    "ABC_scoreTrain_smote=ac_smote.score(X_train_res,y_train_res)\n",
    "print(f\" Train Score : {ABC_scoreTrain_smote}\")\n",
    "ABC_scoreTest_smote=ac.score(X_test,y_test)\n",
    "print(f\" Test Score : {ABC_scoreTest_smote}\")\n",
    "\n",
    "y_predictABC_smote=ac_std.predict(X_test)\n",
    "\n",
    "confu_mat_abc_std=metrics.confusion_matrix(y_test,y_predictABC_smote)\n",
    "print(confu_mat_abc_std)\n",
    "print(metrics.classification_report(y_test,y_predictABC_smote))\n",
    "\n",
    "ABCSMOTE_ROC=roc_auc_score(y_test,y_predictABC_smote)\n",
    "print(\"ROC-AUC Score={:.2f}\".format(ABCSMOTE_ROC))"
   ]
  },
  {
   "cell_type": "code",
   "execution_count": 549,
   "metadata": {},
   "outputs": [
    {
     "name": "stdout",
     "output_type": "stream",
     "text": [
      "Train score: 0.989963503649635\n",
      "Test Score : 0.9129511677282378\n",
      "[[429  11]\n",
      " [ 30   1]]\n",
      "              precision    recall  f1-score   support\n",
      "\n",
      "          -1       0.93      0.97      0.95       440\n",
      "           1       0.08      0.03      0.05        31\n",
      "\n",
      "    accuracy                           0.91       471\n",
      "   macro avg       0.51      0.50      0.50       471\n",
      "weighted avg       0.88      0.91      0.89       471\n",
      "\n",
      "ROC-AUC Score=0.50\n"
     ]
    }
   ],
   "source": [
    "#gradient Boosting with StandardScaler\n",
    "from sklearn.ensemble import GradientBoostingClassifier\n",
    "gbc=GradientBoostingClassifier()\n",
    "gbc.fit(X_train_sd,y_train)\n",
    "\n",
    "y_predGBC=gbc.predict(X_test_sd)\n",
    "\n",
    "GBC_scoreTrain=gbc.score(X_train_sd,y_train)\n",
    "print(f\"Train score: {GBC_scoreTrain}\")\n",
    "GBC_scoreTest=gbc.score(X_test_sd,y_test)\n",
    "print(f\"Test Score : {GBC_scoreTest}\")\n",
    "\n",
    "confu_mat4=metrics.confusion_matrix(y_test, y_predGBC)\n",
    "print(confu_mat4)\n",
    "print(metrics.classification_report(y_test, y_predGBC))\n",
    "\n",
    "GB_ROC=roc_auc_score(y_test,y_predGBC)\n",
    "print(\"ROC-AUC Score={:.2f}\".format(GB_ROC))"
   ]
  },
  {
   "cell_type": "code",
   "execution_count": 550,
   "metadata": {},
   "outputs": [
    {
     "name": "stdout",
     "output_type": "stream",
     "text": [
      "Train score: 1.0\n",
      "Test Score : 0.9299363057324841\n",
      "[[434   6]\n",
      " [ 27   4]]\n",
      "              precision    recall  f1-score   support\n",
      "\n",
      "          -1       0.94      0.99      0.96       440\n",
      "           1       0.40      0.13      0.20        31\n",
      "\n",
      "    accuracy                           0.93       471\n",
      "   macro avg       0.67      0.56      0.58       471\n",
      "weighted avg       0.91      0.93      0.91       471\n",
      "\n",
      "ROC-AUC Score=0.56\n"
     ]
    }
   ],
   "source": [
    "#Gradient Boosting Classifier with SMOTE\n",
    "from sklearn.ensemble import GradientBoostingClassifier\n",
    "gbc_smote=GradientBoostingClassifier()\n",
    "gbc_smote.fit(X_train_res,y_train_res)\n",
    "\n",
    "y_predGBC_smote=gbc_smote.predict(X_test)\n",
    "\n",
    "GBC_scoreTrain_smote=gbc_smote.score(X_train_res,y_train_res)\n",
    "print(f\"Train score: {GBC_scoreTrain_smote}\")\n",
    "GBC_scoreTest_smote=gbc_smote.score(X_test,y_test)\n",
    "print(f\"Test Score : {GBC_scoreTest_smote}\")\n",
    "\n",
    "confu_mat4=metrics.confusion_matrix(y_test, y_predGBC_smote)\n",
    "print(confu_mat4)\n",
    "print(metrics.classification_report(y_test, y_predGBC_smote))\n",
    "\n",
    "GB_ROCSMOTE=roc_auc_score(y_test,y_predGBC_smote)\n",
    "print(\"ROC-AUC Score={:.2f}\".format(GB_ROCSMOTE))"
   ]
  },
  {
   "cell_type": "markdown",
   "metadata": {},
   "source": [
    "### • Display and compare all the models designed with their train and test accuracies."
   ]
  },
  {
   "cell_type": "code",
   "execution_count": 552,
   "metadata": {},
   "outputs": [
    {
     "data": {
      "text/html": [
       "<div>\n",
       "<style scoped>\n",
       "    .dataframe tbody tr th:only-of-type {\n",
       "        vertical-align: middle;\n",
       "    }\n",
       "\n",
       "    .dataframe tbody tr th {\n",
       "        vertical-align: top;\n",
       "    }\n",
       "\n",
       "    .dataframe thead th {\n",
       "        text-align: right;\n",
       "    }\n",
       "</style>\n",
       "<table border=\"1\" class=\"dataframe\">\n",
       "  <thead>\n",
       "    <tr style=\"text-align: right;\">\n",
       "      <th></th>\n",
       "      <th>Model</th>\n",
       "      <th>Training Score</th>\n",
       "      <th>Testing Score</th>\n",
       "      <th>ROC/AUC Score</th>\n",
       "    </tr>\n",
       "  </thead>\n",
       "  <tbody>\n",
       "    <tr>\n",
       "      <th>0</th>\n",
       "      <td>LR before sampling</td>\n",
       "      <td>0.958942</td>\n",
       "      <td>0.919321</td>\n",
       "      <td>0.596994</td>\n",
       "    </tr>\n",
       "    <tr>\n",
       "      <th>1</th>\n",
       "      <td>LR with SMOTE(OverSampling)</td>\n",
       "      <td>0.916971</td>\n",
       "      <td>0.819533</td>\n",
       "      <td>0.603556</td>\n",
       "    </tr>\n",
       "    <tr>\n",
       "      <th>2</th>\n",
       "      <td>LR with RandomUnderSampler</td>\n",
       "      <td>0.648723</td>\n",
       "      <td>0.590234</td>\n",
       "      <td>0.615762</td>\n",
       "    </tr>\n",
       "    <tr>\n",
       "      <th>3</th>\n",
       "      <td>LR with StandardScaler</td>\n",
       "      <td>0.958942</td>\n",
       "      <td>0.912951</td>\n",
       "      <td>0.608578</td>\n",
       "    </tr>\n",
       "    <tr>\n",
       "      <th>4</th>\n",
       "      <td>LR with MinMaxScaler</td>\n",
       "      <td>0.936131</td>\n",
       "      <td>0.934183</td>\n",
       "      <td>0.500000</td>\n",
       "    </tr>\n",
       "    <tr>\n",
       "      <th>5</th>\n",
       "      <td>PCA</td>\n",
       "      <td>0.934307</td>\n",
       "      <td>0.934183</td>\n",
       "      <td>0.500000</td>\n",
       "    </tr>\n",
       "    <tr>\n",
       "      <th>6</th>\n",
       "      <td>PCA with pipeline</td>\n",
       "      <td>0.933394</td>\n",
       "      <td>0.934183</td>\n",
       "      <td>0.500000</td>\n",
       "    </tr>\n",
       "    <tr>\n",
       "      <th>7</th>\n",
       "      <td>Neive byes</td>\n",
       "      <td>0.632299</td>\n",
       "      <td>0.656051</td>\n",
       "      <td>0.740946</td>\n",
       "    </tr>\n",
       "    <tr>\n",
       "      <th>8</th>\n",
       "      <td>Naive byes with standardscaler</td>\n",
       "      <td>0.632299</td>\n",
       "      <td>0.874735</td>\n",
       "      <td>0.573130</td>\n",
       "    </tr>\n",
       "    <tr>\n",
       "      <th>9</th>\n",
       "      <td>Neive byes with SMOTE</td>\n",
       "      <td>0.772727</td>\n",
       "      <td>0.660297</td>\n",
       "      <td>0.593512</td>\n",
       "    </tr>\n",
       "    <tr>\n",
       "      <th>10</th>\n",
       "      <td>KNN</td>\n",
       "      <td>0.943431</td>\n",
       "      <td>0.923567</td>\n",
       "      <td>0.524304</td>\n",
       "    </tr>\n",
       "    <tr>\n",
       "      <th>11</th>\n",
       "      <td>KNN with standardscaler</td>\n",
       "      <td>0.940693</td>\n",
       "      <td>0.925690</td>\n",
       "      <td>0.524304</td>\n",
       "    </tr>\n",
       "    <tr>\n",
       "      <th>12</th>\n",
       "      <td>KNN with SMOTE</td>\n",
       "      <td>0.825513</td>\n",
       "      <td>0.923567</td>\n",
       "      <td>0.550257</td>\n",
       "    </tr>\n",
       "    <tr>\n",
       "      <th>13</th>\n",
       "      <td>SVM</td>\n",
       "      <td>1.000000</td>\n",
       "      <td>0.932059</td>\n",
       "      <td>0.513856</td>\n",
       "    </tr>\n",
       "    <tr>\n",
       "      <th>14</th>\n",
       "      <td>SVM with standardscaler</td>\n",
       "      <td>1.000000</td>\n",
       "      <td>0.932059</td>\n",
       "      <td>0.514993</td>\n",
       "    </tr>\n",
       "    <tr>\n",
       "      <th>15</th>\n",
       "      <td>SVM with SMOTE</td>\n",
       "      <td>1.000000</td>\n",
       "      <td>0.932059</td>\n",
       "      <td>0.498864</td>\n",
       "    </tr>\n",
       "    <tr>\n",
       "      <th>16</th>\n",
       "      <td>Ada Boosting with standard scaler</td>\n",
       "      <td>0.981752</td>\n",
       "      <td>0.927813</td>\n",
       "      <td>0.510447</td>\n",
       "    </tr>\n",
       "    <tr>\n",
       "      <th>17</th>\n",
       "      <td>Ada Boosting with SMOTE</td>\n",
       "      <td>0.976051</td>\n",
       "      <td>0.929936</td>\n",
       "      <td>0.524304</td>\n",
       "    </tr>\n",
       "    <tr>\n",
       "      <th>18</th>\n",
       "      <td>Gradient Boosting with standard scaler</td>\n",
       "      <td>0.989964</td>\n",
       "      <td>0.912951</td>\n",
       "      <td>0.503629</td>\n",
       "    </tr>\n",
       "    <tr>\n",
       "      <th>19</th>\n",
       "      <td>Gradient Boosting with SMOTE</td>\n",
       "      <td>1.000000</td>\n",
       "      <td>0.929936</td>\n",
       "      <td>0.557698</td>\n",
       "    </tr>\n",
       "  </tbody>\n",
       "</table>\n",
       "</div>"
      ],
      "text/plain": [
       "                                     Model  Training Score  Testing Score  \\\n",
       "0                       LR before sampling        0.958942       0.919321   \n",
       "1              LR with SMOTE(OverSampling)        0.916971       0.819533   \n",
       "2               LR with RandomUnderSampler        0.648723       0.590234   \n",
       "3                   LR with StandardScaler        0.958942       0.912951   \n",
       "4                     LR with MinMaxScaler        0.936131       0.934183   \n",
       "5                                      PCA        0.934307       0.934183   \n",
       "6                        PCA with pipeline        0.933394       0.934183   \n",
       "7                               Neive byes        0.632299       0.656051   \n",
       "8           Naive byes with standardscaler        0.632299       0.874735   \n",
       "9                    Neive byes with SMOTE        0.772727       0.660297   \n",
       "10                                     KNN        0.943431       0.923567   \n",
       "11                 KNN with standardscaler        0.940693       0.925690   \n",
       "12                          KNN with SMOTE        0.825513       0.923567   \n",
       "13                                     SVM        1.000000       0.932059   \n",
       "14                 SVM with standardscaler        1.000000       0.932059   \n",
       "15                          SVM with SMOTE        1.000000       0.932059   \n",
       "16       Ada Boosting with standard scaler        0.981752       0.927813   \n",
       "17                 Ada Boosting with SMOTE        0.976051       0.929936   \n",
       "18  Gradient Boosting with standard scaler        0.989964       0.912951   \n",
       "19            Gradient Boosting with SMOTE        1.000000       0.929936   \n",
       "\n",
       "    ROC/AUC Score  \n",
       "0        0.596994  \n",
       "1        0.603556  \n",
       "2        0.615762  \n",
       "3        0.608578  \n",
       "4        0.500000  \n",
       "5        0.500000  \n",
       "6        0.500000  \n",
       "7        0.740946  \n",
       "8        0.573130  \n",
       "9        0.593512  \n",
       "10       0.524304  \n",
       "11       0.524304  \n",
       "12       0.550257  \n",
       "13       0.513856  \n",
       "14       0.514993  \n",
       "15       0.498864  \n",
       "16       0.510447  \n",
       "17       0.524304  \n",
       "18       0.503629  \n",
       "19       0.557698  "
      ]
     },
     "execution_count": 552,
     "metadata": {},
     "output_type": "execute_result"
    }
   ],
   "source": [
    "result_1=pd.DataFrame({'Model':['LR before sampling', 'LR with SMOTE(OverSampling)', 'LR with RandomUnderSampler', 'LR with StandardScaler','LR with MinMaxScaler','PCA','PCA with pipeline',\n",
    "                               'Neive byes','Naive byes with standardscaler','Neive byes with SMOTE','KNN','KNN with standardscaler','KNN with SMOTE','SVM','SVM with standardscaler','SVM with SMOTE',\n",
    "                               'Ada Boosting with standard scaler','Ada Boosting with SMOTE','Gradient Boosting with standard scaler','Gradient Boosting with SMOTE'],\n",
    "                                 'Training Score':[model_score_BSampTrain,model_smote_scoreTrain,model_random_scoreTrain,modelLR_score_StandardTrain,modelLR_score_Hyper_MinMaxTrain,pca_train_score,pipe_LR_PCATrain,\n",
    "                                NB1_score,NB2_score,NB2_score_smoteTrain,model_score_KNNTrain,KNNscore_StdTrain,\n",
    "                                                  KNN_smote_Train,model_score_SVCTrain,SVCTrain_std,SVCTrain_smote,\n",
    "                                                  ABC_scoreTrain_std,ABC_scoreTrain_smote,GBC_scoreTrain,GBC_scoreTrain_smote],\n",
    "                                 'Testing Score':[model_score_BSampTest,model_smote_scoreTest,model_random_scoreTest,modelLR_score_StandardTest,modelLR_score_Hyper_MinMaxTest,pca_test_score,pipe_LR_PCATest,\n",
    "                                NB11_score,NB22_score,NB22_score_smoteTest,model_score_KNNTest,KNNscore_StdTest,\n",
    "                                                 KNN_smote_Test,model_score_SVCTest,SVCTest_std,SVCTest_smote,\n",
    "                                                 ABC_scoreTest_std,ABC_scoreTest_smote,GBC_scoreTest,GBC_scoreTest_smote],\n",
    "                               'ROC/AUC Score':[LR_ROC_BSamp,LR_ROC_SMOTE,LR_ROC_Random,LR_ROC_Standard,LR_ROC_MinMax,LR_ROC_PCA,\n",
    "                                               LR_ROC_pipelinePCA,NB_ROC,ROC22,ROC_nb_smote,ROC_knn1,ROC_KNN_std,\n",
    "                                               ROC_KNN_smote,ROC_svc,ROC_svc_std,ROC_svc_smote,ABC_ROC,ABCSMOTE_ROC,\n",
    "                                                GB_ROC,GB_ROCSMOTE]\n",
    "                                })\n",
    "\n",
    "result_1"
   ]
  },
  {
   "cell_type": "markdown",
   "metadata": {},
   "source": [
    "### • Select the final best trained model along with your detailed comments for selecting this model."
   ]
  },
  {
   "cell_type": "markdown",
   "metadata": {},
   "source": [
    "1.The best model is KNN(N=3) with StandardScaling. It shows good accuracy score for traing and testing. It also shows good ROC/AUC score. LR with standardscaler is equally good but we compared the confusion matrix,recall, precision, f1 score of both and made a conclusion that KNN is the best model for this problem.\n",
    "2.The higher the AUC, the better the performance of the model at distinguishing between the positive and negative classes.\n",
    "3.We have to check the Accuracy score for training and testing also\n",
    "4.SVC shows Overfitting problem.\n",
    "5.Neive byes shows the highest AUC score which is more than 0.5 but is shows poor accuracy rate for training and testing compare to other models."
   ]
  },
  {
   "cell_type": "markdown",
   "metadata": {},
   "source": [
    "### • Pickle the selected model for future use."
   ]
  },
  {
   "cell_type": "code",
   "execution_count": 553,
   "metadata": {},
   "outputs": [],
   "source": [
    "import pickle \n",
    "pkl_filename=\"Pickle_LR_Model.pkl\"\n",
    "\n",
    "with open(pkl_filename,'wb') as file:\n",
    "    pickle.dump(knn_std,file)"
   ]
  },
  {
   "cell_type": "markdown",
   "metadata": {},
   "source": [
    "### • Import the future data file. Use the same to perform the prediction using the best chosen model from above. Display the prediction results."
   ]
  },
  {
   "cell_type": "code",
   "execution_count": 554,
   "metadata": {},
   "outputs": [
    {
     "data": {
      "text/plain": [
       "KNeighborsClassifier(n_neighbors=3)"
      ]
     },
     "execution_count": 554,
     "metadata": {},
     "output_type": "execute_result"
    }
   ],
   "source": [
    "with open(pkl_filename,'rb') as file:\n",
    "    Pickled_LR_Model=pickle.load(file)\n",
    "    \n",
    "Pickled_LR_Model"
   ]
  },
  {
   "cell_type": "code",
   "execution_count": 555,
   "metadata": {},
   "outputs": [
    {
     "name": "stdout",
     "output_type": "stream",
     "text": [
      "Test Score: 92.36%\n",
      "Prediction Result= [-1 -1 -1 -1 -1 -1 -1 -1 -1 -1 -1 -1 -1 -1 -1 -1 -1 -1 -1 -1 -1 -1 -1 -1\n",
      " -1 -1 -1 -1 -1 -1 -1 -1 -1 -1 -1 -1 -1 -1 -1 -1 -1 -1 -1 -1 -1 -1 -1 -1\n",
      " -1 -1 -1 -1 -1 -1 -1 -1 -1 -1 -1 -1 -1 -1 -1 -1 -1 -1 -1 -1 -1 -1 -1 -1\n",
      " -1 -1 -1 -1 -1 -1 -1 -1 -1 -1 -1 -1 -1 -1 -1 -1 -1 -1 -1 -1 -1 -1 -1 -1\n",
      " -1 -1 -1 -1 -1 -1 -1 -1 -1 -1 -1 -1 -1 -1 -1 -1 -1 -1 -1 -1 -1 -1 -1 -1\n",
      "  1 -1 -1 -1 -1 -1 -1 -1 -1 -1 -1 -1 -1 -1 -1 -1 -1 -1 -1 -1 -1 -1 -1 -1\n",
      " -1 -1 -1 -1 -1 -1  1 -1 -1 -1 -1 -1 -1 -1 -1 -1 -1 -1 -1 -1 -1 -1 -1 -1\n",
      " -1 -1 -1 -1 -1 -1 -1 -1 -1 -1 -1 -1 -1 -1 -1 -1 -1 -1 -1 -1 -1 -1 -1 -1\n",
      " -1 -1 -1 -1 -1 -1 -1 -1  1 -1 -1 -1 -1 -1 -1 -1 -1 -1 -1 -1 -1 -1 -1 -1\n",
      " -1 -1 -1 -1 -1 -1 -1 -1 -1 -1 -1 -1 -1 -1 -1 -1 -1 -1 -1 -1 -1 -1 -1 -1\n",
      " -1 -1 -1 -1 -1 -1 -1 -1 -1 -1 -1 -1 -1 -1 -1 -1 -1 -1 -1 -1 -1 -1 -1 -1\n",
      " -1 -1 -1 -1 -1 -1 -1 -1 -1 -1 -1 -1 -1 -1 -1 -1 -1 -1 -1 -1 -1 -1 -1 -1\n",
      " -1 -1 -1 -1 -1 -1 -1 -1 -1 -1 -1  1 -1 -1 -1 -1 -1 -1 -1 -1 -1 -1 -1 -1\n",
      " -1 -1 -1 -1 -1 -1 -1 -1 -1 -1 -1 -1 -1 -1 -1 -1 -1 -1 -1 -1 -1 -1 -1 -1\n",
      " -1 -1 -1 -1 -1 -1 -1 -1 -1 -1 -1 -1 -1 -1 -1 -1 -1 -1 -1 -1  1 -1 -1 -1\n",
      " -1 -1 -1 -1 -1 -1 -1 -1 -1 -1 -1 -1 -1 -1 -1 -1 -1 -1 -1 -1 -1 -1 -1 -1\n",
      " -1 -1 -1 -1 -1 -1 -1 -1 -1 -1 -1 -1 -1 -1 -1 -1 -1 -1 -1 -1 -1 -1 -1 -1\n",
      " -1 -1 -1 -1 -1 -1 -1 -1 -1 -1 -1 -1 -1  1  1 -1 -1 -1 -1 -1 -1 -1 -1 -1\n",
      " -1 -1 -1 -1 -1 -1 -1 -1 -1 -1 -1 -1 -1 -1  1 -1 -1 -1 -1 -1 -1 -1 -1 -1\n",
      " -1 -1 -1 -1 -1 -1 -1  1 -1 -1 -1 -1 -1 -1 -1]\n"
     ]
    }
   ],
   "source": [
    "score=Pickled_LR_Model.score(X_test,y_test)\n",
    "print('Test Score: {0:.2f}%'.format(100*score))\n",
    "y_predict=Pickled_LR_Model.predict(X_test)\n",
    "print(\"Prediction Result=\",y_predict)"
   ]
  },
  {
   "cell_type": "markdown",
   "metadata": {},
   "source": [
    "### 6. Conclusion and improvisation:"
   ]
  },
  {
   "cell_type": "markdown",
   "metadata": {},
   "source": [
    "### • Write your conclusion on the results."
   ]
  },
  {
   "cell_type": "markdown",
   "metadata": {},
   "source": [
    "1.Feature engineering is useful to improve the performance of machine learning algorithms.\n",
    "2.Better features give you a lot of flexibility. Even if you choose a less optimal ML algorithm, you will get a good result.\n",
    "3.Better features will lead you to better accuracy.\n",
    "4.Given some data, we have performed EDA for the dataset.\n",
    "5.Beyond EDA, we have seen how to preprocess data and train supervised models with it.\n",
    "6.We have use dimesion reduction technique PCA which creates a projection of a dataset prior to fitting a model.\n",
    "7.We finally put all the steps in one place and built a pipeline using the sklearn's pipeline function.\n",
    "8.We have built many models, using SMOTE, standardscaling, randomeunderscaler to balance the imbalanced data and tried Hyperparameter Tuning to find the best Hyperparameters. "
   ]
  },
  {
   "cell_type": "code",
   "execution_count": null,
   "metadata": {},
   "outputs": [],
   "source": []
  }
 ],
 "metadata": {
  "kernelspec": {
   "display_name": "Python 3",
   "language": "python",
   "name": "python3"
  },
  "language_info": {
   "codemirror_mode": {
    "name": "ipython",
    "version": 3
   },
   "file_extension": ".py",
   "mimetype": "text/x-python",
   "name": "python",
   "nbconvert_exporter": "python",
   "pygments_lexer": "ipython3",
   "version": "3.8.5"
  }
 },
 "nbformat": 4,
 "nbformat_minor": 4
}
